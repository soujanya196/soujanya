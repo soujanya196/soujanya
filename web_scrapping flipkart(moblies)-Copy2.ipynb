{
 "cells": [
  {
   "cell_type": "code",
   "execution_count": 1,
   "metadata": {},
   "outputs": [],
   "source": [
    "import pandas as pd\n",
    "import bs4\n",
    "from bs4 import BeautifulSoup as soup\n",
    "import re\n",
    "import requests\n",
    "from urllib.request import urlopen as req #urllib is a package\n",
    "# urlopen is function"
   ]
  },
  {
   "cell_type": "code",
   "execution_count": 2,
   "metadata": {},
   "outputs": [],
   "source": [
    "my_url = \"https://www.flipkart.com/search?q=samsung+mobiles&as=on&as-show=on&otracker=AS_Query_HistoryAutoSuggest_0_5&otracker1=AS_Query_HistoryAutoSuggest_0_5&as-pos=0&as-type=HISTORY&suggestionId=samsung+mobiles&requestId=646d2025-2533-420a-9d1a-1ff900629604\""
   ]
  },
  {
   "cell_type": "code",
   "execution_count": 3,
   "metadata": {},
   "outputs": [],
   "source": [
    "load = req(my_url) #req helps for connnection and takes the website and loaded"
   ]
  },
  {
   "cell_type": "code",
   "execution_count": 4,
   "metadata": {},
   "outputs": [],
   "source": [
    "page_html= load.read() #read the data"
   ]
  },
  {
   "cell_type": "code",
   "execution_count": 5,
   "metadata": {},
   "outputs": [],
   "source": [
    "load.close()    # close the connection"
   ]
  },
  {
   "cell_type": "code",
   "execution_count": 6,
   "metadata": {},
   "outputs": [],
   "source": [
    "page_soup = soup(page_html,'html.parser')   #large html file we use html.parser"
   ]
  },
  {
   "cell_type": "code",
   "execution_count": 7,
   "metadata": {},
   "outputs": [],
   "source": [
    "containers = page_soup.findAll(\"div\", { \"class\": \"_3wU53n\"})"
   ]
  },
  {
   "cell_type": "code",
   "execution_count": 8,
   "metadata": {},
   "outputs": [],
   "source": [
    "price = page_soup.findAll(\"div\",class_ =\"_1vC4OE _2rQ-NK\" )"
   ]
  },
  {
   "cell_type": "code",
   "execution_count": 9,
   "metadata": {},
   "outputs": [
    {
     "data": {
      "text/plain": [
       "[<div class=\"_1vC4OE _2rQ-NK\">₹9,490</div>,\n",
       " <div class=\"_1vC4OE _2rQ-NK\">₹9,490</div>,\n",
       " <div class=\"_1vC4OE _2rQ-NK\">₹1,100</div>,\n",
       " <div class=\"_1vC4OE _2rQ-NK\">₹1,100</div>,\n",
       " <div class=\"_1vC4OE _2rQ-NK\">₹1,625</div>,\n",
       " <div class=\"_1vC4OE _2rQ-NK\">₹1,499</div>,\n",
       " <div class=\"_1vC4OE _2rQ-NK\">₹1,375</div>,\n",
       " <div class=\"_1vC4OE _2rQ-NK\">₹15,490</div>,\n",
       " <div class=\"_1vC4OE _2rQ-NK\">₹7,990</div>,\n",
       " <div class=\"_1vC4OE _2rQ-NK\">₹11,490</div>,\n",
       " <div class=\"_1vC4OE _2rQ-NK\">₹15,490</div>,\n",
       " <div class=\"_1vC4OE _2rQ-NK\">₹1,375</div>,\n",
       " <div class=\"_1vC4OE _2rQ-NK\">₹1,375</div>,\n",
       " <div class=\"_1vC4OE _2rQ-NK\">₹79,999</div>,\n",
       " <div class=\"_1vC4OE _2rQ-NK\">₹7,990</div>,\n",
       " <div class=\"_1vC4OE _2rQ-NK\">₹11,179</div>,\n",
       " <div class=\"_1vC4OE _2rQ-NK\">₹16,949</div>,\n",
       " <div class=\"_1vC4OE _2rQ-NK\">₹5,290</div>,\n",
       " <div class=\"_1vC4OE _2rQ-NK\">₹2,025</div>,\n",
       " <div class=\"_1vC4OE _2rQ-NK\">₹8,799</div>,\n",
       " <div class=\"_1vC4OE _2rQ-NK\">₹1,990</div>,\n",
       " <div class=\"_1vC4OE _2rQ-NK\">₹10,899</div>,\n",
       " <div class=\"_1vC4OE _2rQ-NK\">₹13,389</div>,\n",
       " <div class=\"_1vC4OE _2rQ-NK\">₹15,490</div>]"
      ]
     },
     "execution_count": 9,
     "metadata": {},
     "output_type": "execute_result"
    }
   ],
   "source": [
    "price"
   ]
  },
  {
   "cell_type": "code",
   "execution_count": 11,
   "metadata": {},
   "outputs": [],
   "source": [
    "rating = page_soup.findAll(\"div\",class_ = \"hGSR34\") "
   ]
  },
  {
   "cell_type": "code",
   "execution_count": 12,
   "metadata": {},
   "outputs": [
    {
     "data": {
      "text/plain": [
       "[<div class=\"hGSR34\">4.5<img class=\"_2lQ_WZ\" src=\"data:image/svg+xml;base64,PHN2ZyB4bWxucz0iaHR0cDovL3d3dy53My5vcmcvMjAwMC9zdmciIHdpZHRoPSIxMyIgaGVpZ2h0PSIxMiI+PHBhdGggZmlsbD0iI0ZGRiIgZD0iTTYuNSA5LjQzOWwtMy42NzQgMi4yMy45NC00LjI2LTMuMjEtMi44ODMgNC4yNTQtLjQwNEw2LjUuMTEybDEuNjkgNC4wMSA0LjI1NC40MDQtMy4yMSAyLjg4Mi45NCA0LjI2eiIvPjwvc3ZnPg==\"/></div>,\n",
       " <div class=\"hGSR34\">4.5<img class=\"_2lQ_WZ\" src=\"data:image/svg+xml;base64,PHN2ZyB4bWxucz0iaHR0cDovL3d3dy53My5vcmcvMjAwMC9zdmciIHdpZHRoPSIxMyIgaGVpZ2h0PSIxMiI+PHBhdGggZmlsbD0iI0ZGRiIgZD0iTTYuNSA5LjQzOWwtMy42NzQgMi4yMy45NC00LjI2LTMuMjEtMi44ODMgNC4yNTQtLjQwNEw2LjUuMTEybDEuNjkgNC4wMSA0LjI1NC40MDQtMy4yMSAyLjg4Mi45NCA0LjI2eiIvPjwvc3ZnPg==\"/></div>,\n",
       " <div class=\"hGSR34\">4.3<img class=\"_2lQ_WZ\" src=\"data:image/svg+xml;base64,PHN2ZyB4bWxucz0iaHR0cDovL3d3dy53My5vcmcvMjAwMC9zdmciIHdpZHRoPSIxMyIgaGVpZ2h0PSIxMiI+PHBhdGggZmlsbD0iI0ZGRiIgZD0iTTYuNSA5LjQzOWwtMy42NzQgMi4yMy45NC00LjI2LTMuMjEtMi44ODMgNC4yNTQtLjQwNEw2LjUuMTEybDEuNjkgNC4wMSA0LjI1NC40MDQtMy4yMSAyLjg4Mi45NCA0LjI2eiIvPjwvc3ZnPg==\"/></div>,\n",
       " <div class=\"hGSR34\">4.3<img class=\"_2lQ_WZ\" src=\"data:image/svg+xml;base64,PHN2ZyB4bWxucz0iaHR0cDovL3d3dy53My5vcmcvMjAwMC9zdmciIHdpZHRoPSIxMyIgaGVpZ2h0PSIxMiI+PHBhdGggZmlsbD0iI0ZGRiIgZD0iTTYuNSA5LjQzOWwtMy42NzQgMi4yMy45NC00LjI2LTMuMjEtMi44ODMgNC4yNTQtLjQwNEw2LjUuMTEybDEuNjkgNC4wMSA0LjI1NC40MDQtMy4yMSAyLjg4Mi45NCA0LjI2eiIvPjwvc3ZnPg==\"/></div>,\n",
       " <div class=\"hGSR34\">4.3<img class=\"_2lQ_WZ\" src=\"data:image/svg+xml;base64,PHN2ZyB4bWxucz0iaHR0cDovL3d3dy53My5vcmcvMjAwMC9zdmciIHdpZHRoPSIxMyIgaGVpZ2h0PSIxMiI+PHBhdGggZmlsbD0iI0ZGRiIgZD0iTTYuNSA5LjQzOWwtMy42NzQgMi4yMy45NC00LjI2LTMuMjEtMi44ODMgNC4yNTQtLjQwNEw2LjUuMTEybDEuNjkgNC4wMSA0LjI1NC40MDQtMy4yMSAyLjg4Mi45NCA0LjI2eiIvPjwvc3ZnPg==\"/></div>,\n",
       " <div class=\"hGSR34\">4.3<img class=\"_2lQ_WZ\" src=\"data:image/svg+xml;base64,PHN2ZyB4bWxucz0iaHR0cDovL3d3dy53My5vcmcvMjAwMC9zdmciIHdpZHRoPSIxMyIgaGVpZ2h0PSIxMiI+PHBhdGggZmlsbD0iI0ZGRiIgZD0iTTYuNSA5LjQzOWwtMy42NzQgMi4yMy45NC00LjI2LTMuMjEtMi44ODMgNC4yNTQtLjQwNEw2LjUuMTEybDEuNjkgNC4wMSA0LjI1NC40MDQtMy4yMSAyLjg4Mi45NCA0LjI2eiIvPjwvc3ZnPg==\"/></div>,\n",
       " <div class=\"hGSR34\">4.2<img class=\"_2lQ_WZ\" src=\"data:image/svg+xml;base64,PHN2ZyB4bWxucz0iaHR0cDovL3d3dy53My5vcmcvMjAwMC9zdmciIHdpZHRoPSIxMyIgaGVpZ2h0PSIxMiI+PHBhdGggZmlsbD0iI0ZGRiIgZD0iTTYuNSA5LjQzOWwtMy42NzQgMi4yMy45NC00LjI2LTMuMjEtMi44ODMgNC4yNTQtLjQwNEw2LjUuMTEybDEuNjkgNC4wMSA0LjI1NC40MDQtMy4yMSAyLjg4Mi45NCA0LjI2eiIvPjwvc3ZnPg==\"/></div>,\n",
       " <div class=\"hGSR34\">4.4<img class=\"_2lQ_WZ\" src=\"data:image/svg+xml;base64,PHN2ZyB4bWxucz0iaHR0cDovL3d3dy53My5vcmcvMjAwMC9zdmciIHdpZHRoPSIxMyIgaGVpZ2h0PSIxMiI+PHBhdGggZmlsbD0iI0ZGRiIgZD0iTTYuNSA5LjQzOWwtMy42NzQgMi4yMy45NC00LjI2LTMuMjEtMi44ODMgNC4yNTQtLjQwNEw2LjUuMTEybDEuNjkgNC4wMSA0LjI1NC40MDQtMy4yMSAyLjg4Mi45NCA0LjI2eiIvPjwvc3ZnPg==\"/></div>,\n",
       " <div class=\"hGSR34\">4.3<img class=\"_2lQ_WZ\" src=\"data:image/svg+xml;base64,PHN2ZyB4bWxucz0iaHR0cDovL3d3dy53My5vcmcvMjAwMC9zdmciIHdpZHRoPSIxMyIgaGVpZ2h0PSIxMiI+PHBhdGggZmlsbD0iI0ZGRiIgZD0iTTYuNSA5LjQzOWwtMy42NzQgMi4yMy45NC00LjI2LTMuMjEtMi44ODMgNC4yNTQtLjQwNEw2LjUuMTEybDEuNjkgNC4wMSA0LjI1NC40MDQtMy4yMSAyLjg4Mi45NCA0LjI2eiIvPjwvc3ZnPg==\"/></div>,\n",
       " <div class=\"hGSR34\">4.3<img class=\"_2lQ_WZ\" src=\"data:image/svg+xml;base64,PHN2ZyB4bWxucz0iaHR0cDovL3d3dy53My5vcmcvMjAwMC9zdmciIHdpZHRoPSIxMyIgaGVpZ2h0PSIxMiI+PHBhdGggZmlsbD0iI0ZGRiIgZD0iTTYuNSA5LjQzOWwtMy42NzQgMi4yMy45NC00LjI2LTMuMjEtMi44ODMgNC4yNTQtLjQwNEw2LjUuMTEybDEuNjkgNC4wMSA0LjI1NC40MDQtMy4yMSAyLjg4Mi45NCA0LjI2eiIvPjwvc3ZnPg==\"/></div>,\n",
       " <div class=\"hGSR34\">4.4<img class=\"_2lQ_WZ\" src=\"data:image/svg+xml;base64,PHN2ZyB4bWxucz0iaHR0cDovL3d3dy53My5vcmcvMjAwMC9zdmciIHdpZHRoPSIxMyIgaGVpZ2h0PSIxMiI+PHBhdGggZmlsbD0iI0ZGRiIgZD0iTTYuNSA5LjQzOWwtMy42NzQgMi4yMy45NC00LjI2LTMuMjEtMi44ODMgNC4yNTQtLjQwNEw2LjUuMTEybDEuNjkgNC4wMSA0LjI1NC40MDQtMy4yMSAyLjg4Mi45NCA0LjI2eiIvPjwvc3ZnPg==\"/></div>,\n",
       " <div class=\"hGSR34\">4.3<img class=\"_2lQ_WZ\" src=\"data:image/svg+xml;base64,PHN2ZyB4bWxucz0iaHR0cDovL3d3dy53My5vcmcvMjAwMC9zdmciIHdpZHRoPSIxMyIgaGVpZ2h0PSIxMiI+PHBhdGggZmlsbD0iI0ZGRiIgZD0iTTYuNSA5LjQzOWwtMy42NzQgMi4yMy45NC00LjI2LTMuMjEtMi44ODMgNC4yNTQtLjQwNEw2LjUuMTEybDEuNjkgNC4wMSA0LjI1NC40MDQtMy4yMSAyLjg4Mi45NCA0LjI2eiIvPjwvc3ZnPg==\"/></div>,\n",
       " <div class=\"hGSR34\">4.3<img class=\"_2lQ_WZ\" src=\"data:image/svg+xml;base64,PHN2ZyB4bWxucz0iaHR0cDovL3d3dy53My5vcmcvMjAwMC9zdmciIHdpZHRoPSIxMyIgaGVpZ2h0PSIxMiI+PHBhdGggZmlsbD0iI0ZGRiIgZD0iTTYuNSA5LjQzOWwtMy42NzQgMi4yMy45NC00LjI2LTMuMjEtMi44ODMgNC4yNTQtLjQwNEw2LjUuMTEybDEuNjkgNC4wMSA0LjI1NC40MDQtMy4yMSAyLjg4Mi45NCA0LjI2eiIvPjwvc3ZnPg==\"/></div>,\n",
       " <div class=\"hGSR34\">4.8<img class=\"_2lQ_WZ\" src=\"data:image/svg+xml;base64,PHN2ZyB4bWxucz0iaHR0cDovL3d3dy53My5vcmcvMjAwMC9zdmciIHdpZHRoPSIxMyIgaGVpZ2h0PSIxMiI+PHBhdGggZmlsbD0iI0ZGRiIgZD0iTTYuNSA5LjQzOWwtMy42NzQgMi4yMy45NC00LjI2LTMuMjEtMi44ODMgNC4yNTQtLjQwNEw2LjUuMTEybDEuNjkgNC4wMSA0LjI1NC40MDQtMy4yMSAyLjg4Mi45NCA0LjI2eiIvPjwvc3ZnPg==\"/></div>,\n",
       " <div class=\"hGSR34\">4.3<img class=\"_2lQ_WZ\" src=\"data:image/svg+xml;base64,PHN2ZyB4bWxucz0iaHR0cDovL3d3dy53My5vcmcvMjAwMC9zdmciIHdpZHRoPSIxMyIgaGVpZ2h0PSIxMiI+PHBhdGggZmlsbD0iI0ZGRiIgZD0iTTYuNSA5LjQzOWwtMy42NzQgMi4yMy45NC00LjI2LTMuMjEtMi44ODMgNC4yNTQtLjQwNEw2LjUuMTEybDEuNjkgNC4wMSA0LjI1NC40MDQtMy4yMSAyLjg4Mi45NCA0LjI2eiIvPjwvc3ZnPg==\"/></div>,\n",
       " <div class=\"hGSR34\">4.3<img class=\"_2lQ_WZ\" src=\"data:image/svg+xml;base64,PHN2ZyB4bWxucz0iaHR0cDovL3d3dy53My5vcmcvMjAwMC9zdmciIHdpZHRoPSIxMyIgaGVpZ2h0PSIxMiI+PHBhdGggZmlsbD0iI0ZGRiIgZD0iTTYuNSA5LjQzOWwtMy42NzQgMi4yMy45NC00LjI2LTMuMjEtMi44ODMgNC4yNTQtLjQwNEw2LjUuMTEybDEuNjkgNC4wMSA0LjI1NC40MDQtMy4yMSAyLjg4Mi45NCA0LjI2eiIvPjwvc3ZnPg==\"/></div>,\n",
       " <div class=\"hGSR34\">4.3<img class=\"_2lQ_WZ\" src=\"data:image/svg+xml;base64,PHN2ZyB4bWxucz0iaHR0cDovL3d3dy53My5vcmcvMjAwMC9zdmciIHdpZHRoPSIxMyIgaGVpZ2h0PSIxMiI+PHBhdGggZmlsbD0iI0ZGRiIgZD0iTTYuNSA5LjQzOWwtMy42NzQgMi4yMy45NC00LjI2LTMuMjEtMi44ODMgNC4yNTQtLjQwNEw2LjUuMTEybDEuNjkgNC4wMSA0LjI1NC40MDQtMy4yMSAyLjg4Mi45NCA0LjI2eiIvPjwvc3ZnPg==\"/></div>,\n",
       " <div class=\"hGSR34\">4.1<img class=\"_2lQ_WZ\" src=\"data:image/svg+xml;base64,PHN2ZyB4bWxucz0iaHR0cDovL3d3dy53My5vcmcvMjAwMC9zdmciIHdpZHRoPSIxMyIgaGVpZ2h0PSIxMiI+PHBhdGggZmlsbD0iI0ZGRiIgZD0iTTYuNSA5LjQzOWwtMy42NzQgMi4yMy45NC00LjI2LTMuMjEtMi44ODMgNC4yNTQtLjQwNEw2LjUuMTEybDEuNjkgNC4wMSA0LjI1NC40MDQtMy4yMSAyLjg4Mi45NCA0LjI2eiIvPjwvc3ZnPg==\"/></div>,\n",
       " <div class=\"hGSR34\">4.2<img class=\"_2lQ_WZ\" src=\"data:image/svg+xml;base64,PHN2ZyB4bWxucz0iaHR0cDovL3d3dy53My5vcmcvMjAwMC9zdmciIHdpZHRoPSIxMyIgaGVpZ2h0PSIxMiI+PHBhdGggZmlsbD0iI0ZGRiIgZD0iTTYuNSA5LjQzOWwtMy42NzQgMi4yMy45NC00LjI2LTMuMjEtMi44ODMgNC4yNTQtLjQwNEw2LjUuMTEybDEuNjkgNC4wMSA0LjI1NC40MDQtMy4yMSAyLjg4Mi45NCA0LjI2eiIvPjwvc3ZnPg==\"/></div>,\n",
       " <div class=\"hGSR34\">4.3<img class=\"_2lQ_WZ\" src=\"data:image/svg+xml;base64,PHN2ZyB4bWxucz0iaHR0cDovL3d3dy53My5vcmcvMjAwMC9zdmciIHdpZHRoPSIxMyIgaGVpZ2h0PSIxMiI+PHBhdGggZmlsbD0iI0ZGRiIgZD0iTTYuNSA5LjQzOWwtMy42NzQgMi4yMy45NC00LjI2LTMuMjEtMi44ODMgNC4yNTQtLjQwNEw2LjUuMTEybDEuNjkgNC4wMSA0LjI1NC40MDQtMy4yMSAyLjg4Mi45NCA0LjI2eiIvPjwvc3ZnPg==\"/></div>,\n",
       " <div class=\"hGSR34\">4.2<img class=\"_2lQ_WZ\" src=\"data:image/svg+xml;base64,PHN2ZyB4bWxucz0iaHR0cDovL3d3dy53My5vcmcvMjAwMC9zdmciIHdpZHRoPSIxMyIgaGVpZ2h0PSIxMiI+PHBhdGggZmlsbD0iI0ZGRiIgZD0iTTYuNSA5LjQzOWwtMy42NzQgMi4yMy45NC00LjI2LTMuMjEtMi44ODMgNC4yNTQtLjQwNEw2LjUuMTEybDEuNjkgNC4wMSA0LjI1NC40MDQtMy4yMSAyLjg4Mi45NCA0LjI2eiIvPjwvc3ZnPg==\"/></div>,\n",
       " <div class=\"hGSR34\">4.3<img class=\"_2lQ_WZ\" src=\"data:image/svg+xml;base64,PHN2ZyB4bWxucz0iaHR0cDovL3d3dy53My5vcmcvMjAwMC9zdmciIHdpZHRoPSIxMyIgaGVpZ2h0PSIxMiI+PHBhdGggZmlsbD0iI0ZGRiIgZD0iTTYuNSA5LjQzOWwtMy42NzQgMi4yMy45NC00LjI2LTMuMjEtMi44ODMgNC4yNTQtLjQwNEw2LjUuMTEybDEuNjkgNC4wMSA0LjI1NC40MDQtMy4yMSAyLjg4Mi45NCA0LjI2eiIvPjwvc3ZnPg==\"/></div>,\n",
       " <div class=\"hGSR34\">4.3<img class=\"_2lQ_WZ\" src=\"data:image/svg+xml;base64,PHN2ZyB4bWxucz0iaHR0cDovL3d3dy53My5vcmcvMjAwMC9zdmciIHdpZHRoPSIxMyIgaGVpZ2h0PSIxMiI+PHBhdGggZmlsbD0iI0ZGRiIgZD0iTTYuNSA5LjQzOWwtMy42NzQgMi4yMy45NC00LjI2LTMuMjEtMi44ODMgNC4yNTQtLjQwNEw2LjUuMTEybDEuNjkgNC4wMSA0LjI1NC40MDQtMy4yMSAyLjg4Mi45NCA0LjI2eiIvPjwvc3ZnPg==\"/></div>,\n",
       " <div class=\"hGSR34\">4.4<img class=\"_2lQ_WZ\" src=\"data:image/svg+xml;base64,PHN2ZyB4bWxucz0iaHR0cDovL3d3dy53My5vcmcvMjAwMC9zdmciIHdpZHRoPSIxMyIgaGVpZ2h0PSIxMiI+PHBhdGggZmlsbD0iI0ZGRiIgZD0iTTYuNSA5LjQzOWwtMy42NzQgMi4yMy45NC00LjI2LTMuMjEtMi44ODMgNC4yNTQtLjQwNEw2LjUuMTEybDEuNjkgNC4wMSA0LjI1NC40MDQtMy4yMSAyLjg4Mi45NCA0LjI2eiIvPjwvc3ZnPg==\"/></div>,\n",
       " <div class=\"hGSR34\">4.3<img class=\"_2lQ_WZ\" src=\"data:image/svg+xml;base64,PHN2ZyB4bWxucz0iaHR0cDovL3d3dy53My5vcmcvMjAwMC9zdmciIHdpZHRoPSIxMyIgaGVpZ2h0PSIxMiI+PHBhdGggZmlsbD0iI0ZGRiIgZD0iTTYuNSA5LjQzOWwtMy42NzQgMi4yMy45NC00LjI2LTMuMjEtMi44ODMgNC4yNTQtLjQwNEw2LjUuMTEybDEuNjkgNC4wMSA0LjI1NC40MDQtMy4yMSAyLjg4Mi45NCA0LjI2eiIvPjwvc3ZnPg==\"/></div>,\n",
       " <div class=\"hGSR34 E_uFuv\">5<img class=\"_2lQ_WZ\" src=\"data:image/svg+xml;base64,PHN2ZyB4bWxucz0iaHR0cDovL3d3dy53My5vcmcvMjAwMC9zdmciIHdpZHRoPSIxMyIgaGVpZ2h0PSIxMiI+PHBhdGggZmlsbD0iI0ZGRiIgZD0iTTYuNSA5LjQzOWwtMy42NzQgMi4yMy45NC00LjI2LTMuMjEtMi44ODMgNC4yNTQtLjQwNEw2LjUuMTEybDEuNjkgNC4wMSA0LjI1NC40MDQtMy4yMSAyLjg4Mi45NCA0LjI2eiIvPjwvc3ZnPg==\"/></div>,\n",
       " <div class=\"hGSR34 E_uFuv\">5<img class=\"_2lQ_WZ\" src=\"data:image/svg+xml;base64,PHN2ZyB4bWxucz0iaHR0cDovL3d3dy53My5vcmcvMjAwMC9zdmciIHdpZHRoPSIxMyIgaGVpZ2h0PSIxMiI+PHBhdGggZmlsbD0iI0ZGRiIgZD0iTTYuNSA5LjQzOWwtMy42NzQgMi4yMy45NC00LjI2LTMuMjEtMi44ODMgNC4yNTQtLjQwNEw2LjUuMTEybDEuNjkgNC4wMSA0LjI1NC40MDQtMy4yMSAyLjg4Mi45NCA0LjI2eiIvPjwvc3ZnPg==\"/></div>,\n",
       " <div class=\"hGSR34\">4.3<img class=\"_2lQ_WZ\" src=\"data:image/svg+xml;base64,PHN2ZyB4bWxucz0iaHR0cDovL3d3dy53My5vcmcvMjAwMC9zdmciIHdpZHRoPSIxMyIgaGVpZ2h0PSIxMiI+PHBhdGggZmlsbD0iI0ZGRiIgZD0iTTYuNSA5LjQzOWwtMy42NzQgMi4yMy45NC00LjI2LTMuMjEtMi44ODMgNC4yNTQtLjQwNEw2LjUuMTEybDEuNjkgNC4wMSA0LjI1NC40MDQtMy4yMSAyLjg4Mi45NCA0LjI2eiIvPjwvc3ZnPg==\"/></div>,\n",
       " <div class=\"hGSR34 E_uFuv\">5<img class=\"_2lQ_WZ\" src=\"data:image/svg+xml;base64,PHN2ZyB4bWxucz0iaHR0cDovL3d3dy53My5vcmcvMjAwMC9zdmciIHdpZHRoPSIxMyIgaGVpZ2h0PSIxMiI+PHBhdGggZmlsbD0iI0ZGRiIgZD0iTTYuNSA5LjQzOWwtMy42NzQgMi4yMy45NC00LjI2LTMuMjEtMi44ODMgNC4yNTQtLjQwNEw2LjUuMTEybDEuNjkgNC4wMSA0LjI1NC40MDQtMy4yMSAyLjg4Mi45NCA0LjI2eiIvPjwvc3ZnPg==\"/></div>,\n",
       " <div class=\"hGSR34 E_uFuv\">4<img class=\"_2lQ_WZ\" src=\"data:image/svg+xml;base64,PHN2ZyB4bWxucz0iaHR0cDovL3d3dy53My5vcmcvMjAwMC9zdmciIHdpZHRoPSIxMyIgaGVpZ2h0PSIxMiI+PHBhdGggZmlsbD0iI0ZGRiIgZD0iTTYuNSA5LjQzOWwtMy42NzQgMi4yMy45NC00LjI2LTMuMjEtMi44ODMgNC4yNTQtLjQwNEw2LjUuMTEybDEuNjkgNC4wMSA0LjI1NC40MDQtMy4yMSAyLjg4Mi45NCA0LjI2eiIvPjwvc3ZnPg==\"/></div>,\n",
       " <div class=\"hGSR34\">4.2<img class=\"_2lQ_WZ\" src=\"data:image/svg+xml;base64,PHN2ZyB4bWxucz0iaHR0cDovL3d3dy53My5vcmcvMjAwMC9zdmciIHdpZHRoPSIxMyIgaGVpZ2h0PSIxMiI+PHBhdGggZmlsbD0iI0ZGRiIgZD0iTTYuNSA5LjQzOWwtMy42NzQgMi4yMy45NC00LjI2LTMuMjEtMi44ODMgNC4yNTQtLjQwNEw2LjUuMTEybDEuNjkgNC4wMSA0LjI1NC40MDQtMy4yMSAyLjg4Mi45NCA0LjI2eiIvPjwvc3ZnPg==\"/></div>,\n",
       " <div class=\"hGSR34 E_uFuv\">4<img class=\"_2lQ_WZ\" src=\"data:image/svg+xml;base64,PHN2ZyB4bWxucz0iaHR0cDovL3d3dy53My5vcmcvMjAwMC9zdmciIHdpZHRoPSIxMyIgaGVpZ2h0PSIxMiI+PHBhdGggZmlsbD0iI0ZGRiIgZD0iTTYuNSA5LjQzOWwtMy42NzQgMi4yMy45NC00LjI2LTMuMjEtMi44ODMgNC4yNTQtLjQwNEw2LjUuMTEybDEuNjkgNC4wMSA0LjI1NC40MDQtMy4yMSAyLjg4Mi45NCA0LjI2eiIvPjwvc3ZnPg==\"/></div>,\n",
       " <div class=\"hGSR34 E_uFuv\">5<img class=\"_2lQ_WZ\" src=\"data:image/svg+xml;base64,PHN2ZyB4bWxucz0iaHR0cDovL3d3dy53My5vcmcvMjAwMC9zdmciIHdpZHRoPSIxMyIgaGVpZ2h0PSIxMiI+PHBhdGggZmlsbD0iI0ZGRiIgZD0iTTYuNSA5LjQzOWwtMy42NzQgMi4yMy45NC00LjI2LTMuMjEtMi44ODMgNC4yNTQtLjQwNEw2LjUuMTEybDEuNjkgNC4wMSA0LjI1NC40MDQtMy4yMSAyLjg4Mi45NCA0LjI2eiIvPjwvc3ZnPg==\"/></div>,\n",
       " <div class=\"hGSR34\">4.3<img class=\"_2lQ_WZ\" src=\"data:image/svg+xml;base64,PHN2ZyB4bWxucz0iaHR0cDovL3d3dy53My5vcmcvMjAwMC9zdmciIHdpZHRoPSIxMyIgaGVpZ2h0PSIxMiI+PHBhdGggZmlsbD0iI0ZGRiIgZD0iTTYuNSA5LjQzOWwtMy42NzQgMi4yMy45NC00LjI2LTMuMjEtMi44ODMgNC4yNTQtLjQwNEw2LjUuMTEybDEuNjkgNC4wMSA0LjI1NC40MDQtMy4yMSAyLjg4Mi45NCA0LjI2eiIvPjwvc3ZnPg==\"/></div>,\n",
       " <div class=\"hGSR34 E_uFuv\">5<img class=\"_2lQ_WZ\" src=\"data:image/svg+xml;base64,PHN2ZyB4bWxucz0iaHR0cDovL3d3dy53My5vcmcvMjAwMC9zdmciIHdpZHRoPSIxMyIgaGVpZ2h0PSIxMiI+PHBhdGggZmlsbD0iI0ZGRiIgZD0iTTYuNSA5LjQzOWwtMy42NzQgMi4yMy45NC00LjI2LTMuMjEtMi44ODMgNC4yNTQtLjQwNEw2LjUuMTEybDEuNjkgNC4wMSA0LjI1NC40MDQtMy4yMSAyLjg4Mi45NCA0LjI2eiIvPjwvc3ZnPg==\"/></div>,\n",
       " <div class=\"hGSR34 E_uFuv\">5<img class=\"_2lQ_WZ\" src=\"data:image/svg+xml;base64,PHN2ZyB4bWxucz0iaHR0cDovL3d3dy53My5vcmcvMjAwMC9zdmciIHdpZHRoPSIxMyIgaGVpZ2h0PSIxMiI+PHBhdGggZmlsbD0iI0ZGRiIgZD0iTTYuNSA5LjQzOWwtMy42NzQgMi4yMy45NC00LjI2LTMuMjEtMi44ODMgNC4yNTQtLjQwNEw2LjUuMTEybDEuNjkgNC4wMSA0LjI1NC40MDQtMy4yMSAyLjg4Mi45NCA0LjI2eiIvPjwvc3ZnPg==\"/></div>,\n",
       " <div class=\"hGSR34\">4.4<img class=\"_2lQ_WZ\" src=\"data:image/svg+xml;base64,PHN2ZyB4bWxucz0iaHR0cDovL3d3dy53My5vcmcvMjAwMC9zdmciIHdpZHRoPSIxMyIgaGVpZ2h0PSIxMiI+PHBhdGggZmlsbD0iI0ZGRiIgZD0iTTYuNSA5LjQzOWwtMy42NzQgMi4yMy45NC00LjI2LTMuMjEtMi44ODMgNC4yNTQtLjQwNEw2LjUuMTEybDEuNjkgNC4wMSA0LjI1NC40MDQtMy4yMSAyLjg4Mi45NCA0LjI2eiIvPjwvc3ZnPg==\"/></div>,\n",
       " <div class=\"hGSR34 E_uFuv\">5<img class=\"_2lQ_WZ\" src=\"data:image/svg+xml;base64,PHN2ZyB4bWxucz0iaHR0cDovL3d3dy53My5vcmcvMjAwMC9zdmciIHdpZHRoPSIxMyIgaGVpZ2h0PSIxMiI+PHBhdGggZmlsbD0iI0ZGRiIgZD0iTTYuNSA5LjQzOWwtMy42NzQgMi4yMy45NC00LjI2LTMuMjEtMi44ODMgNC4yNTQtLjQwNEw2LjUuMTEybDEuNjkgNC4wMSA0LjI1NC40MDQtMy4yMSAyLjg4Mi45NCA0LjI2eiIvPjwvc3ZnPg==\"/></div>,\n",
       " <div class=\"hGSR34 E_uFuv\">4<img class=\"_2lQ_WZ\" src=\"data:image/svg+xml;base64,PHN2ZyB4bWxucz0iaHR0cDovL3d3dy53My5vcmcvMjAwMC9zdmciIHdpZHRoPSIxMyIgaGVpZ2h0PSIxMiI+PHBhdGggZmlsbD0iI0ZGRiIgZD0iTTYuNSA5LjQzOWwtMy42NzQgMi4yMy45NC00LjI2LTMuMjEtMi44ODMgNC4yNTQtLjQwNEw2LjUuMTEybDEuNjkgNC4wMSA0LjI1NC40MDQtMy4yMSAyLjg4Mi45NCA0LjI2eiIvPjwvc3ZnPg==\"/></div>]"
      ]
     },
     "execution_count": 12,
     "metadata": {},
     "output_type": "execute_result"
    }
   ],
   "source": [
    "rating"
   ]
  },
  {
   "cell_type": "code",
   "execution_count": 13,
   "metadata": {},
   "outputs": [],
   "source": [
    "ram = page_soup.findAll(\"div\",class_ = \"_3ULzGw\")"
   ]
  },
  {
   "cell_type": "code",
   "execution_count": 14,
   "metadata": {},
   "outputs": [
    {
     "data": {
      "text/plain": [
       "[<div class=\"_3ULzGw\"><ul class=\"vFw0gD\"><li class=\"tVe95H\">4 GB RAM | 64 GB ROM | Expandable Upto 256 GB</li><li class=\"tVe95H\">14.22 cm (5.6 inch) HD+ Display</li><li class=\"tVe95H\">13MP Rear Camera | 8MP Front Camera</li><li class=\"tVe95H\">3000 mAh Battery</li><li class=\"tVe95H\">Exynos 7870 Processor</li><li class=\"tVe95H\">Brand Warranty of 1 Year Available for Mobile and 6 Months for Accessories</li></ul></div>,\n",
       " <div class=\"_3ULzGw\"><ul class=\"vFw0gD\"><li class=\"tVe95H\">4 GB RAM | 64 GB ROM | Expandable Upto 256 GB</li><li class=\"tVe95H\">14.22 cm (5.6 inch) HD+ Display</li><li class=\"tVe95H\">13MP Rear Camera | 8MP Front Camera</li><li class=\"tVe95H\">3000 mAh Battery</li><li class=\"tVe95H\">Exynos 7870 Processor</li><li class=\"tVe95H\">Brand Warranty of 1 Year Available for Mobile and 6 Months for Accessories</li></ul></div>,\n",
       " <div class=\"_3ULzGw\"><ul class=\"vFw0gD\"><li class=\"tVe95H\">NA ROM |</li><li class=\"tVe95H\">3.81 cm (1.5 inch) NA Display</li><li class=\"tVe95H\">800 mAh Battery</li><li class=\"tVe95H\">0 0 0 0 Processor Processor</li><li class=\"tVe95H\">1 Year for Mobile &amp; 6 Months for Accessories</li></ul></div>,\n",
       " <div class=\"_3ULzGw\"><ul class=\"vFw0gD\"><li class=\"tVe95H\">NA ROM |</li><li class=\"tVe95H\">3.81 cm (1.5 inch) NA Display</li><li class=\"tVe95H\">800 mAh Battery</li><li class=\"tVe95H\">0 0 0 0 Processor Processor</li><li class=\"tVe95H\">1 Year for Mobile &amp; 6 Months for Accessories</li></ul></div>,\n",
       " <div class=\"_3ULzGw\"><ul class=\"vFw0gD\"><li class=\"tVe95H\">NA ROM |</li><li class=\"tVe95H\">5.08 cm (2 inch) QVGA Display</li><li class=\"tVe95H\">800 mAh Battery</li><li class=\"tVe95H\">1 Year Manufacturer Warranty</li></ul></div>,\n",
       " <div class=\"_3ULzGw\"><ul class=\"vFw0gD\"><li class=\"tVe95H\">NA ROM |</li><li class=\"tVe95H\">3.81 cm (1.5 inch) Display</li><li class=\"tVe95H\">800 mAh Battery</li><li class=\"tVe95H\">1 year warranty on handset and 6 months warranty on the accessories.</li></ul></div>,\n",
       " <div class=\"_3ULzGw\"><ul class=\"vFw0gD\"><li class=\"tVe95H\">NA ROM |</li><li class=\"tVe95H\">3.81 cm (1.5 inch) VGA Display</li><li class=\"tVe95H\">800 mAh Battery</li><li class=\"tVe95H\">1 Year Manufacturer Warranty</li></ul></div>,\n",
       " <div class=\"_3ULzGw\"><ul class=\"vFw0gD\"><li class=\"tVe95H\">4 GB RAM | 64 GB ROM | Expandable Upto 512 GB</li><li class=\"tVe95H\">16.26 cm (6.4 inch) FHD+ Display</li><li class=\"tVe95H\">16MP + 5MP | 16MP Front Camera</li><li class=\"tVe95H\">4000 mAh Lithium-ion Battery</li><li class=\"tVe95H\">Exynos 7904 Processor</li><li class=\"tVe95H\">Super AMOLED Display</li><li class=\"tVe95H\">Brand Warranty of 1 Year Available for Mobile and 6 Months for Accessories</li></ul></div>,\n",
       " <div class=\"_3ULzGw\"><ul class=\"vFw0gD\"><li class=\"tVe95H\">2 GB RAM | 32 GB ROM | Expandable Upto 512 GB</li><li class=\"tVe95H\">15.75 cm (6.2 inch) HD+ Display</li><li class=\"tVe95H\">13MP Rear Camera | 5MP Front Camera</li><li class=\"tVe95H\">3400 mAh Lithium-ion Battery</li><li class=\"tVe95H\">Exynos 7884 Processor</li><li class=\"tVe95H\">Brand Warranty of 1 Year Available for Mobile and 6 Months for Accessories</li></ul></div>,\n",
       " <div class=\"_3ULzGw\"><ul class=\"vFw0gD\"><li class=\"tVe95H\">3 GB RAM | 32 GB ROM | Expandable Upto 512 GB</li><li class=\"tVe95H\">16.26 cm (6.4 inch) HD+ Display</li><li class=\"tVe95H\">13MP + 5MP | 8MP Front Camera</li><li class=\"tVe95H\">4000 mAh Lithium-ion Battery</li><li class=\"tVe95H\">Exynos 7884B Processor</li><li class=\"tVe95H\">Brand Warranty of 1 Year Available for Mobile and 6 Months for Accessories</li></ul></div>,\n",
       " <div class=\"_3ULzGw\"><ul class=\"vFw0gD\"><li class=\"tVe95H\">4 GB RAM | 64 GB ROM | Expandable Upto 512 GB</li><li class=\"tVe95H\">16.26 cm (6.4 inch) FHD+ Display</li><li class=\"tVe95H\">16MP + 5MP | 16MP Front Camera</li><li class=\"tVe95H\">4000 mAh Lithium-ion Battery</li><li class=\"tVe95H\">Exynos 7904 Processor</li><li class=\"tVe95H\">Super AMOLED Display</li><li class=\"tVe95H\">Brand Warranty of 1 Year Available for Mobile and 6 Months for Accessories</li></ul></div>,\n",
       " <div class=\"_3ULzGw\"><ul class=\"vFw0gD\"><li class=\"tVe95H\">NA ROM |</li><li class=\"tVe95H\">3.81 cm (1.5 inch) VGA Display</li><li class=\"tVe95H\">800 mAh Battery</li><li class=\"tVe95H\">1 year warranty on handset and 6 months warranty on the accessories.</li></ul></div>,\n",
       " <div class=\"_3ULzGw\"><ul class=\"vFw0gD\"><li class=\"tVe95H\">NA ROM |</li><li class=\"tVe95H\">3.81 cm (1.5 inch) Display</li><li class=\"tVe95H\">0MP Front Camera</li><li class=\"tVe95H\">800 mAh Battery</li><li class=\"tVe95H\">1 year warranty on handset and 6 months warranty on the accessories.</li></ul></div>,\n",
       " <div class=\"_3ULzGw\"><ul class=\"vFw0gD\"><li class=\"tVe95H\">12 GB RAM | 256 GB ROM | Expandable Upto 1 TB</li><li class=\"tVe95H\">17.27 cm (6.8 inch) Display</li><li class=\"tVe95H\">12MP (Dual Aperture) + 12MP + 16MP + TOF | 10MP Front Camera</li><li class=\"tVe95H\">4300 mAh Battery</li><li class=\"tVe95H\">Brand Warranty of 1 Year Available for Mobile and 6 Months for Accessories</li></ul></div>,\n",
       " <div class=\"_3ULzGw\"><ul class=\"vFw0gD\"><li class=\"tVe95H\">2 GB RAM | 32 GB ROM | Expandable Upto 512 GB</li><li class=\"tVe95H\">15.75 cm (6.2 inch) HD+ Display</li><li class=\"tVe95H\">13MP Rear Camera | 5MP Front Camera</li><li class=\"tVe95H\">3400 mAh Lithium-ion Battery</li><li class=\"tVe95H\">Exynos 7884 Processor</li><li class=\"tVe95H\">Brand Warranty of 1 Year Available for Mobile and 6 Months for Accessories</li></ul></div>,\n",
       " <div class=\"_3ULzGw\"><ul class=\"vFw0gD\"><li class=\"tVe95H\">3 GB RAM | 32 GB ROM | Expandable Upto 512 MB</li><li class=\"tVe95H\">16.0 cm (6.3 inch) Full HD+ Display</li><li class=\"tVe95H\">5MP Rear Camera | 8MP + 8MP Dual Front Camera</li><li class=\"tVe95H\">5000 mAh Battery</li><li class=\"tVe95H\">1 year manufacturer warranty for device and 6 months manufacturer warranty for in-box accessories including batteries from the date of purchase</li></ul></div>,\n",
       " <div class=\"_3ULzGw\"><ul class=\"vFw0gD\"><li class=\"tVe95H\">6 GB RAM | 64 GB ROM |</li><li class=\"tVe95H\">15.24 cm (6 inch) Display</li><li class=\"tVe95H\">16MP Rear Camera</li><li class=\"tVe95H\">3500 mAh Battery</li><li class=\"tVe95H\">1 Year Warranty</li></ul></div>,\n",
       " <div class=\"_3ULzGw\"><ul class=\"vFw0gD\"><li class=\"tVe95H\">1 GB RAM | 16 GB ROM | Expandable Upto 256 GB</li><li class=\"tVe95H\">12.7 cm (5 inch) Quad HD Display</li><li class=\"tVe95H\">5MP Rear Camera | 5MP Front Camera</li><li class=\"tVe95H\">2600 mAh Lithium-ion Battery</li><li class=\"tVe95H\">Exynos 7870 Processor</li><li class=\"tVe95H\">Brand Warranty of 1 Year Available for Mobile and 6 Months for Accessories</li></ul></div>,\n",
       " <div class=\"_3ULzGw\"><ul class=\"vFw0gD\"><li class=\"tVe95H\">16 MB RAM | 2 MB ROM |</li><li class=\"tVe95H\">5.08 cm (2 inch) Display</li><li class=\"tVe95H\">0.3MP Rear Camera</li><li class=\"tVe95H\">1000 mAh Battery</li><li class=\"tVe95H\">1 Year Manufacturer Warranty</li></ul></div>,\n",
       " <div class=\"_3ULzGw\"><ul class=\"vFw0gD\"><li class=\"tVe95H\">3 GB RAM | 32 GB ROM |</li><li class=\"tVe95H\">15.8 cm (6.22 inch) Display</li><li class=\"tVe95H\">13MP Rear Camera</li><li class=\"tVe95H\">3400 mAh Battery</li><li class=\"tVe95H\">12 Months</li></ul></div>,\n",
       " <div class=\"_3ULzGw\"><ul class=\"vFw0gD\"><li class=\"tVe95H\">10 MB RAM | 2 MB ROM | Expandable Upto 16 GB</li><li class=\"tVe95H\">5.08 cm (2 inch) QVGA Display</li><li class=\"tVe95H\">0.3MP Rear Camera</li><li class=\"tVe95H\">1000 mAh Battery</li><li class=\"tVe95H\">0 0 0 0 Processor Processor</li><li class=\"tVe95H\">1 Year Manufacturer Warranty</li></ul></div>,\n",
       " <div class=\"_3ULzGw\"><ul class=\"vFw0gD\"><li class=\"tVe95H\">3 GB RAM | 32 GB ROM |</li><li class=\"tVe95H\">16.0 cm (6.3 inch) Display</li><li class=\"tVe95H\">13MP Rear Camera</li><li class=\"tVe95H\">5000 mAh Battery</li><li class=\"tVe95H\">12 months</li></ul></div>,\n",
       " <div class=\"_3ULzGw\"><ul class=\"vFw0gD\"><li class=\"tVe95H\">4 GB RAM | 64 GB ROM |</li><li class=\"tVe95H\">16.0 cm (6.3 inch) Display</li><li class=\"tVe95H\">13MP Rear Camera</li><li class=\"tVe95H\">5000 mAh Battery</li><li class=\"tVe95H\">12 months</li></ul></div>,\n",
       " <div class=\"_3ULzGw\"><ul class=\"vFw0gD\"><li class=\"tVe95H\">4 GB RAM | 64 GB ROM |</li><li class=\"tVe95H\">16.26 cm (6.4 inch) Display</li><li class=\"tVe95H\">13MP Rear Camera</li><li class=\"tVe95H\">5000 mAh Battery</li><li class=\"tVe95H\">12 Months</li></ul></div>]"
      ]
     },
     "execution_count": 14,
     "metadata": {},
     "output_type": "execute_result"
    }
   ],
   "source": [
    "ram"
   ]
  },
  {
   "cell_type": "code",
   "execution_count": 15,
   "metadata": {},
   "outputs": [],
   "source": [
    "rom = page_soup.findAll(\"div\",class_ = \"_3ULzGw\")"
   ]
  },
  {
   "cell_type": "code",
   "execution_count": 16,
   "metadata": {},
   "outputs": [
    {
     "data": {
      "text/plain": [
       "[<div class=\"_3ULzGw\"><ul class=\"vFw0gD\"><li class=\"tVe95H\">4 GB RAM | 64 GB ROM | Expandable Upto 256 GB</li><li class=\"tVe95H\">14.22 cm (5.6 inch) HD+ Display</li><li class=\"tVe95H\">13MP Rear Camera | 8MP Front Camera</li><li class=\"tVe95H\">3000 mAh Battery</li><li class=\"tVe95H\">Exynos 7870 Processor</li><li class=\"tVe95H\">Brand Warranty of 1 Year Available for Mobile and 6 Months for Accessories</li></ul></div>,\n",
       " <div class=\"_3ULzGw\"><ul class=\"vFw0gD\"><li class=\"tVe95H\">4 GB RAM | 64 GB ROM | Expandable Upto 256 GB</li><li class=\"tVe95H\">14.22 cm (5.6 inch) HD+ Display</li><li class=\"tVe95H\">13MP Rear Camera | 8MP Front Camera</li><li class=\"tVe95H\">3000 mAh Battery</li><li class=\"tVe95H\">Exynos 7870 Processor</li><li class=\"tVe95H\">Brand Warranty of 1 Year Available for Mobile and 6 Months for Accessories</li></ul></div>,\n",
       " <div class=\"_3ULzGw\"><ul class=\"vFw0gD\"><li class=\"tVe95H\">NA ROM |</li><li class=\"tVe95H\">3.81 cm (1.5 inch) NA Display</li><li class=\"tVe95H\">800 mAh Battery</li><li class=\"tVe95H\">0 0 0 0 Processor Processor</li><li class=\"tVe95H\">1 Year for Mobile &amp; 6 Months for Accessories</li></ul></div>,\n",
       " <div class=\"_3ULzGw\"><ul class=\"vFw0gD\"><li class=\"tVe95H\">NA ROM |</li><li class=\"tVe95H\">3.81 cm (1.5 inch) NA Display</li><li class=\"tVe95H\">800 mAh Battery</li><li class=\"tVe95H\">0 0 0 0 Processor Processor</li><li class=\"tVe95H\">1 Year for Mobile &amp; 6 Months for Accessories</li></ul></div>,\n",
       " <div class=\"_3ULzGw\"><ul class=\"vFw0gD\"><li class=\"tVe95H\">NA ROM |</li><li class=\"tVe95H\">5.08 cm (2 inch) QVGA Display</li><li class=\"tVe95H\">800 mAh Battery</li><li class=\"tVe95H\">1 Year Manufacturer Warranty</li></ul></div>,\n",
       " <div class=\"_3ULzGw\"><ul class=\"vFw0gD\"><li class=\"tVe95H\">NA ROM |</li><li class=\"tVe95H\">3.81 cm (1.5 inch) Display</li><li class=\"tVe95H\">800 mAh Battery</li><li class=\"tVe95H\">1 year warranty on handset and 6 months warranty on the accessories.</li></ul></div>,\n",
       " <div class=\"_3ULzGw\"><ul class=\"vFw0gD\"><li class=\"tVe95H\">NA ROM |</li><li class=\"tVe95H\">3.81 cm (1.5 inch) VGA Display</li><li class=\"tVe95H\">800 mAh Battery</li><li class=\"tVe95H\">1 Year Manufacturer Warranty</li></ul></div>,\n",
       " <div class=\"_3ULzGw\"><ul class=\"vFw0gD\"><li class=\"tVe95H\">4 GB RAM | 64 GB ROM | Expandable Upto 512 GB</li><li class=\"tVe95H\">16.26 cm (6.4 inch) FHD+ Display</li><li class=\"tVe95H\">16MP + 5MP | 16MP Front Camera</li><li class=\"tVe95H\">4000 mAh Lithium-ion Battery</li><li class=\"tVe95H\">Exynos 7904 Processor</li><li class=\"tVe95H\">Super AMOLED Display</li><li class=\"tVe95H\">Brand Warranty of 1 Year Available for Mobile and 6 Months for Accessories</li></ul></div>,\n",
       " <div class=\"_3ULzGw\"><ul class=\"vFw0gD\"><li class=\"tVe95H\">2 GB RAM | 32 GB ROM | Expandable Upto 512 GB</li><li class=\"tVe95H\">15.75 cm (6.2 inch) HD+ Display</li><li class=\"tVe95H\">13MP Rear Camera | 5MP Front Camera</li><li class=\"tVe95H\">3400 mAh Lithium-ion Battery</li><li class=\"tVe95H\">Exynos 7884 Processor</li><li class=\"tVe95H\">Brand Warranty of 1 Year Available for Mobile and 6 Months for Accessories</li></ul></div>,\n",
       " <div class=\"_3ULzGw\"><ul class=\"vFw0gD\"><li class=\"tVe95H\">3 GB RAM | 32 GB ROM | Expandable Upto 512 GB</li><li class=\"tVe95H\">16.26 cm (6.4 inch) HD+ Display</li><li class=\"tVe95H\">13MP + 5MP | 8MP Front Camera</li><li class=\"tVe95H\">4000 mAh Lithium-ion Battery</li><li class=\"tVe95H\">Exynos 7884B Processor</li><li class=\"tVe95H\">Brand Warranty of 1 Year Available for Mobile and 6 Months for Accessories</li></ul></div>,\n",
       " <div class=\"_3ULzGw\"><ul class=\"vFw0gD\"><li class=\"tVe95H\">4 GB RAM | 64 GB ROM | Expandable Upto 512 GB</li><li class=\"tVe95H\">16.26 cm (6.4 inch) FHD+ Display</li><li class=\"tVe95H\">16MP + 5MP | 16MP Front Camera</li><li class=\"tVe95H\">4000 mAh Lithium-ion Battery</li><li class=\"tVe95H\">Exynos 7904 Processor</li><li class=\"tVe95H\">Super AMOLED Display</li><li class=\"tVe95H\">Brand Warranty of 1 Year Available for Mobile and 6 Months for Accessories</li></ul></div>,\n",
       " <div class=\"_3ULzGw\"><ul class=\"vFw0gD\"><li class=\"tVe95H\">NA ROM |</li><li class=\"tVe95H\">3.81 cm (1.5 inch) VGA Display</li><li class=\"tVe95H\">800 mAh Battery</li><li class=\"tVe95H\">1 year warranty on handset and 6 months warranty on the accessories.</li></ul></div>,\n",
       " <div class=\"_3ULzGw\"><ul class=\"vFw0gD\"><li class=\"tVe95H\">NA ROM |</li><li class=\"tVe95H\">3.81 cm (1.5 inch) Display</li><li class=\"tVe95H\">0MP Front Camera</li><li class=\"tVe95H\">800 mAh Battery</li><li class=\"tVe95H\">1 year warranty on handset and 6 months warranty on the accessories.</li></ul></div>,\n",
       " <div class=\"_3ULzGw\"><ul class=\"vFw0gD\"><li class=\"tVe95H\">12 GB RAM | 256 GB ROM | Expandable Upto 1 TB</li><li class=\"tVe95H\">17.27 cm (6.8 inch) Display</li><li class=\"tVe95H\">12MP (Dual Aperture) + 12MP + 16MP + TOF | 10MP Front Camera</li><li class=\"tVe95H\">4300 mAh Battery</li><li class=\"tVe95H\">Brand Warranty of 1 Year Available for Mobile and 6 Months for Accessories</li></ul></div>,\n",
       " <div class=\"_3ULzGw\"><ul class=\"vFw0gD\"><li class=\"tVe95H\">2 GB RAM | 32 GB ROM | Expandable Upto 512 GB</li><li class=\"tVe95H\">15.75 cm (6.2 inch) HD+ Display</li><li class=\"tVe95H\">13MP Rear Camera | 5MP Front Camera</li><li class=\"tVe95H\">3400 mAh Lithium-ion Battery</li><li class=\"tVe95H\">Exynos 7884 Processor</li><li class=\"tVe95H\">Brand Warranty of 1 Year Available for Mobile and 6 Months for Accessories</li></ul></div>,\n",
       " <div class=\"_3ULzGw\"><ul class=\"vFw0gD\"><li class=\"tVe95H\">3 GB RAM | 32 GB ROM | Expandable Upto 512 MB</li><li class=\"tVe95H\">16.0 cm (6.3 inch) Full HD+ Display</li><li class=\"tVe95H\">5MP Rear Camera | 8MP + 8MP Dual Front Camera</li><li class=\"tVe95H\">5000 mAh Battery</li><li class=\"tVe95H\">1 year manufacturer warranty for device and 6 months manufacturer warranty for in-box accessories including batteries from the date of purchase</li></ul></div>,\n",
       " <div class=\"_3ULzGw\"><ul class=\"vFw0gD\"><li class=\"tVe95H\">6 GB RAM | 64 GB ROM |</li><li class=\"tVe95H\">15.24 cm (6 inch) Display</li><li class=\"tVe95H\">16MP Rear Camera</li><li class=\"tVe95H\">3500 mAh Battery</li><li class=\"tVe95H\">1 Year Warranty</li></ul></div>,\n",
       " <div class=\"_3ULzGw\"><ul class=\"vFw0gD\"><li class=\"tVe95H\">1 GB RAM | 16 GB ROM | Expandable Upto 256 GB</li><li class=\"tVe95H\">12.7 cm (5 inch) Quad HD Display</li><li class=\"tVe95H\">5MP Rear Camera | 5MP Front Camera</li><li class=\"tVe95H\">2600 mAh Lithium-ion Battery</li><li class=\"tVe95H\">Exynos 7870 Processor</li><li class=\"tVe95H\">Brand Warranty of 1 Year Available for Mobile and 6 Months for Accessories</li></ul></div>,\n",
       " <div class=\"_3ULzGw\"><ul class=\"vFw0gD\"><li class=\"tVe95H\">16 MB RAM | 2 MB ROM |</li><li class=\"tVe95H\">5.08 cm (2 inch) Display</li><li class=\"tVe95H\">0.3MP Rear Camera</li><li class=\"tVe95H\">1000 mAh Battery</li><li class=\"tVe95H\">1 Year Manufacturer Warranty</li></ul></div>,\n",
       " <div class=\"_3ULzGw\"><ul class=\"vFw0gD\"><li class=\"tVe95H\">3 GB RAM | 32 GB ROM |</li><li class=\"tVe95H\">15.8 cm (6.22 inch) Display</li><li class=\"tVe95H\">13MP Rear Camera</li><li class=\"tVe95H\">3400 mAh Battery</li><li class=\"tVe95H\">12 Months</li></ul></div>,\n",
       " <div class=\"_3ULzGw\"><ul class=\"vFw0gD\"><li class=\"tVe95H\">10 MB RAM | 2 MB ROM | Expandable Upto 16 GB</li><li class=\"tVe95H\">5.08 cm (2 inch) QVGA Display</li><li class=\"tVe95H\">0.3MP Rear Camera</li><li class=\"tVe95H\">1000 mAh Battery</li><li class=\"tVe95H\">0 0 0 0 Processor Processor</li><li class=\"tVe95H\">1 Year Manufacturer Warranty</li></ul></div>,\n",
       " <div class=\"_3ULzGw\"><ul class=\"vFw0gD\"><li class=\"tVe95H\">3 GB RAM | 32 GB ROM |</li><li class=\"tVe95H\">16.0 cm (6.3 inch) Display</li><li class=\"tVe95H\">13MP Rear Camera</li><li class=\"tVe95H\">5000 mAh Battery</li><li class=\"tVe95H\">12 months</li></ul></div>,\n",
       " <div class=\"_3ULzGw\"><ul class=\"vFw0gD\"><li class=\"tVe95H\">4 GB RAM | 64 GB ROM |</li><li class=\"tVe95H\">16.0 cm (6.3 inch) Display</li><li class=\"tVe95H\">13MP Rear Camera</li><li class=\"tVe95H\">5000 mAh Battery</li><li class=\"tVe95H\">12 months</li></ul></div>,\n",
       " <div class=\"_3ULzGw\"><ul class=\"vFw0gD\"><li class=\"tVe95H\">4 GB RAM | 64 GB ROM |</li><li class=\"tVe95H\">16.26 cm (6.4 inch) Display</li><li class=\"tVe95H\">13MP Rear Camera</li><li class=\"tVe95H\">5000 mAh Battery</li><li class=\"tVe95H\">12 Months</li></ul></div>]"
      ]
     },
     "execution_count": 16,
     "metadata": {},
     "output_type": "execute_result"
    }
   ],
   "source": [
    "rom"
   ]
  },
  {
   "cell_type": "code",
   "execution_count": 17,
   "metadata": {},
   "outputs": [],
   "source": [
    "battery = page_soup.findAll(\"div\",class_ = \"_3ULzGw\")"
   ]
  },
  {
   "cell_type": "code",
   "execution_count": 18,
   "metadata": {},
   "outputs": [
    {
     "data": {
      "text/plain": [
       "[<div class=\"_3ULzGw\"><ul class=\"vFw0gD\"><li class=\"tVe95H\">4 GB RAM | 64 GB ROM | Expandable Upto 256 GB</li><li class=\"tVe95H\">14.22 cm (5.6 inch) HD+ Display</li><li class=\"tVe95H\">13MP Rear Camera | 8MP Front Camera</li><li class=\"tVe95H\">3000 mAh Battery</li><li class=\"tVe95H\">Exynos 7870 Processor</li><li class=\"tVe95H\">Brand Warranty of 1 Year Available for Mobile and 6 Months for Accessories</li></ul></div>,\n",
       " <div class=\"_3ULzGw\"><ul class=\"vFw0gD\"><li class=\"tVe95H\">4 GB RAM | 64 GB ROM | Expandable Upto 256 GB</li><li class=\"tVe95H\">14.22 cm (5.6 inch) HD+ Display</li><li class=\"tVe95H\">13MP Rear Camera | 8MP Front Camera</li><li class=\"tVe95H\">3000 mAh Battery</li><li class=\"tVe95H\">Exynos 7870 Processor</li><li class=\"tVe95H\">Brand Warranty of 1 Year Available for Mobile and 6 Months for Accessories</li></ul></div>,\n",
       " <div class=\"_3ULzGw\"><ul class=\"vFw0gD\"><li class=\"tVe95H\">NA ROM |</li><li class=\"tVe95H\">3.81 cm (1.5 inch) NA Display</li><li class=\"tVe95H\">800 mAh Battery</li><li class=\"tVe95H\">0 0 0 0 Processor Processor</li><li class=\"tVe95H\">1 Year for Mobile &amp; 6 Months for Accessories</li></ul></div>,\n",
       " <div class=\"_3ULzGw\"><ul class=\"vFw0gD\"><li class=\"tVe95H\">NA ROM |</li><li class=\"tVe95H\">3.81 cm (1.5 inch) NA Display</li><li class=\"tVe95H\">800 mAh Battery</li><li class=\"tVe95H\">0 0 0 0 Processor Processor</li><li class=\"tVe95H\">1 Year for Mobile &amp; 6 Months for Accessories</li></ul></div>,\n",
       " <div class=\"_3ULzGw\"><ul class=\"vFw0gD\"><li class=\"tVe95H\">NA ROM |</li><li class=\"tVe95H\">5.08 cm (2 inch) QVGA Display</li><li class=\"tVe95H\">800 mAh Battery</li><li class=\"tVe95H\">1 Year Manufacturer Warranty</li></ul></div>,\n",
       " <div class=\"_3ULzGw\"><ul class=\"vFw0gD\"><li class=\"tVe95H\">NA ROM |</li><li class=\"tVe95H\">3.81 cm (1.5 inch) Display</li><li class=\"tVe95H\">800 mAh Battery</li><li class=\"tVe95H\">1 year warranty on handset and 6 months warranty on the accessories.</li></ul></div>,\n",
       " <div class=\"_3ULzGw\"><ul class=\"vFw0gD\"><li class=\"tVe95H\">NA ROM |</li><li class=\"tVe95H\">3.81 cm (1.5 inch) VGA Display</li><li class=\"tVe95H\">800 mAh Battery</li><li class=\"tVe95H\">1 Year Manufacturer Warranty</li></ul></div>,\n",
       " <div class=\"_3ULzGw\"><ul class=\"vFw0gD\"><li class=\"tVe95H\">4 GB RAM | 64 GB ROM | Expandable Upto 512 GB</li><li class=\"tVe95H\">16.26 cm (6.4 inch) FHD+ Display</li><li class=\"tVe95H\">16MP + 5MP | 16MP Front Camera</li><li class=\"tVe95H\">4000 mAh Lithium-ion Battery</li><li class=\"tVe95H\">Exynos 7904 Processor</li><li class=\"tVe95H\">Super AMOLED Display</li><li class=\"tVe95H\">Brand Warranty of 1 Year Available for Mobile and 6 Months for Accessories</li></ul></div>,\n",
       " <div class=\"_3ULzGw\"><ul class=\"vFw0gD\"><li class=\"tVe95H\">2 GB RAM | 32 GB ROM | Expandable Upto 512 GB</li><li class=\"tVe95H\">15.75 cm (6.2 inch) HD+ Display</li><li class=\"tVe95H\">13MP Rear Camera | 5MP Front Camera</li><li class=\"tVe95H\">3400 mAh Lithium-ion Battery</li><li class=\"tVe95H\">Exynos 7884 Processor</li><li class=\"tVe95H\">Brand Warranty of 1 Year Available for Mobile and 6 Months for Accessories</li></ul></div>,\n",
       " <div class=\"_3ULzGw\"><ul class=\"vFw0gD\"><li class=\"tVe95H\">3 GB RAM | 32 GB ROM | Expandable Upto 512 GB</li><li class=\"tVe95H\">16.26 cm (6.4 inch) HD+ Display</li><li class=\"tVe95H\">13MP + 5MP | 8MP Front Camera</li><li class=\"tVe95H\">4000 mAh Lithium-ion Battery</li><li class=\"tVe95H\">Exynos 7884B Processor</li><li class=\"tVe95H\">Brand Warranty of 1 Year Available for Mobile and 6 Months for Accessories</li></ul></div>,\n",
       " <div class=\"_3ULzGw\"><ul class=\"vFw0gD\"><li class=\"tVe95H\">4 GB RAM | 64 GB ROM | Expandable Upto 512 GB</li><li class=\"tVe95H\">16.26 cm (6.4 inch) FHD+ Display</li><li class=\"tVe95H\">16MP + 5MP | 16MP Front Camera</li><li class=\"tVe95H\">4000 mAh Lithium-ion Battery</li><li class=\"tVe95H\">Exynos 7904 Processor</li><li class=\"tVe95H\">Super AMOLED Display</li><li class=\"tVe95H\">Brand Warranty of 1 Year Available for Mobile and 6 Months for Accessories</li></ul></div>,\n",
       " <div class=\"_3ULzGw\"><ul class=\"vFw0gD\"><li class=\"tVe95H\">NA ROM |</li><li class=\"tVe95H\">3.81 cm (1.5 inch) VGA Display</li><li class=\"tVe95H\">800 mAh Battery</li><li class=\"tVe95H\">1 year warranty on handset and 6 months warranty on the accessories.</li></ul></div>,\n",
       " <div class=\"_3ULzGw\"><ul class=\"vFw0gD\"><li class=\"tVe95H\">NA ROM |</li><li class=\"tVe95H\">3.81 cm (1.5 inch) Display</li><li class=\"tVe95H\">0MP Front Camera</li><li class=\"tVe95H\">800 mAh Battery</li><li class=\"tVe95H\">1 year warranty on handset and 6 months warranty on the accessories.</li></ul></div>,\n",
       " <div class=\"_3ULzGw\"><ul class=\"vFw0gD\"><li class=\"tVe95H\">12 GB RAM | 256 GB ROM | Expandable Upto 1 TB</li><li class=\"tVe95H\">17.27 cm (6.8 inch) Display</li><li class=\"tVe95H\">12MP (Dual Aperture) + 12MP + 16MP + TOF | 10MP Front Camera</li><li class=\"tVe95H\">4300 mAh Battery</li><li class=\"tVe95H\">Brand Warranty of 1 Year Available for Mobile and 6 Months for Accessories</li></ul></div>,\n",
       " <div class=\"_3ULzGw\"><ul class=\"vFw0gD\"><li class=\"tVe95H\">2 GB RAM | 32 GB ROM | Expandable Upto 512 GB</li><li class=\"tVe95H\">15.75 cm (6.2 inch) HD+ Display</li><li class=\"tVe95H\">13MP Rear Camera | 5MP Front Camera</li><li class=\"tVe95H\">3400 mAh Lithium-ion Battery</li><li class=\"tVe95H\">Exynos 7884 Processor</li><li class=\"tVe95H\">Brand Warranty of 1 Year Available for Mobile and 6 Months for Accessories</li></ul></div>,\n",
       " <div class=\"_3ULzGw\"><ul class=\"vFw0gD\"><li class=\"tVe95H\">3 GB RAM | 32 GB ROM | Expandable Upto 512 MB</li><li class=\"tVe95H\">16.0 cm (6.3 inch) Full HD+ Display</li><li class=\"tVe95H\">5MP Rear Camera | 8MP + 8MP Dual Front Camera</li><li class=\"tVe95H\">5000 mAh Battery</li><li class=\"tVe95H\">1 year manufacturer warranty for device and 6 months manufacturer warranty for in-box accessories including batteries from the date of purchase</li></ul></div>,\n",
       " <div class=\"_3ULzGw\"><ul class=\"vFw0gD\"><li class=\"tVe95H\">6 GB RAM | 64 GB ROM |</li><li class=\"tVe95H\">15.24 cm (6 inch) Display</li><li class=\"tVe95H\">16MP Rear Camera</li><li class=\"tVe95H\">3500 mAh Battery</li><li class=\"tVe95H\">1 Year Warranty</li></ul></div>,\n",
       " <div class=\"_3ULzGw\"><ul class=\"vFw0gD\"><li class=\"tVe95H\">1 GB RAM | 16 GB ROM | Expandable Upto 256 GB</li><li class=\"tVe95H\">12.7 cm (5 inch) Quad HD Display</li><li class=\"tVe95H\">5MP Rear Camera | 5MP Front Camera</li><li class=\"tVe95H\">2600 mAh Lithium-ion Battery</li><li class=\"tVe95H\">Exynos 7870 Processor</li><li class=\"tVe95H\">Brand Warranty of 1 Year Available for Mobile and 6 Months for Accessories</li></ul></div>,\n",
       " <div class=\"_3ULzGw\"><ul class=\"vFw0gD\"><li class=\"tVe95H\">16 MB RAM | 2 MB ROM |</li><li class=\"tVe95H\">5.08 cm (2 inch) Display</li><li class=\"tVe95H\">0.3MP Rear Camera</li><li class=\"tVe95H\">1000 mAh Battery</li><li class=\"tVe95H\">1 Year Manufacturer Warranty</li></ul></div>,\n",
       " <div class=\"_3ULzGw\"><ul class=\"vFw0gD\"><li class=\"tVe95H\">3 GB RAM | 32 GB ROM |</li><li class=\"tVe95H\">15.8 cm (6.22 inch) Display</li><li class=\"tVe95H\">13MP Rear Camera</li><li class=\"tVe95H\">3400 mAh Battery</li><li class=\"tVe95H\">12 Months</li></ul></div>,\n",
       " <div class=\"_3ULzGw\"><ul class=\"vFw0gD\"><li class=\"tVe95H\">10 MB RAM | 2 MB ROM | Expandable Upto 16 GB</li><li class=\"tVe95H\">5.08 cm (2 inch) QVGA Display</li><li class=\"tVe95H\">0.3MP Rear Camera</li><li class=\"tVe95H\">1000 mAh Battery</li><li class=\"tVe95H\">0 0 0 0 Processor Processor</li><li class=\"tVe95H\">1 Year Manufacturer Warranty</li></ul></div>,\n",
       " <div class=\"_3ULzGw\"><ul class=\"vFw0gD\"><li class=\"tVe95H\">3 GB RAM | 32 GB ROM |</li><li class=\"tVe95H\">16.0 cm (6.3 inch) Display</li><li class=\"tVe95H\">13MP Rear Camera</li><li class=\"tVe95H\">5000 mAh Battery</li><li class=\"tVe95H\">12 months</li></ul></div>,\n",
       " <div class=\"_3ULzGw\"><ul class=\"vFw0gD\"><li class=\"tVe95H\">4 GB RAM | 64 GB ROM |</li><li class=\"tVe95H\">16.0 cm (6.3 inch) Display</li><li class=\"tVe95H\">13MP Rear Camera</li><li class=\"tVe95H\">5000 mAh Battery</li><li class=\"tVe95H\">12 months</li></ul></div>,\n",
       " <div class=\"_3ULzGw\"><ul class=\"vFw0gD\"><li class=\"tVe95H\">4 GB RAM | 64 GB ROM |</li><li class=\"tVe95H\">16.26 cm (6.4 inch) Display</li><li class=\"tVe95H\">13MP Rear Camera</li><li class=\"tVe95H\">5000 mAh Battery</li><li class=\"tVe95H\">12 Months</li></ul></div>]"
      ]
     },
     "execution_count": 18,
     "metadata": {},
     "output_type": "execute_result"
    }
   ],
   "source": [
    "battery"
   ]
  },
  {
   "cell_type": "code",
   "execution_count": 19,
   "metadata": {},
   "outputs": [],
   "source": [
    "inches = page_soup.findAll(\"div\",class_ = \"_3ULzGw\")\n"
   ]
  },
  {
   "cell_type": "code",
   "execution_count": 20,
   "metadata": {},
   "outputs": [
    {
     "data": {
      "text/plain": [
       "[<div class=\"_3ULzGw\"><ul class=\"vFw0gD\"><li class=\"tVe95H\">4 GB RAM | 64 GB ROM | Expandable Upto 256 GB</li><li class=\"tVe95H\">14.22 cm (5.6 inch) HD+ Display</li><li class=\"tVe95H\">13MP Rear Camera | 8MP Front Camera</li><li class=\"tVe95H\">3000 mAh Battery</li><li class=\"tVe95H\">Exynos 7870 Processor</li><li class=\"tVe95H\">Brand Warranty of 1 Year Available for Mobile and 6 Months for Accessories</li></ul></div>,\n",
       " <div class=\"_3ULzGw\"><ul class=\"vFw0gD\"><li class=\"tVe95H\">4 GB RAM | 64 GB ROM | Expandable Upto 256 GB</li><li class=\"tVe95H\">14.22 cm (5.6 inch) HD+ Display</li><li class=\"tVe95H\">13MP Rear Camera | 8MP Front Camera</li><li class=\"tVe95H\">3000 mAh Battery</li><li class=\"tVe95H\">Exynos 7870 Processor</li><li class=\"tVe95H\">Brand Warranty of 1 Year Available for Mobile and 6 Months for Accessories</li></ul></div>,\n",
       " <div class=\"_3ULzGw\"><ul class=\"vFw0gD\"><li class=\"tVe95H\">NA ROM |</li><li class=\"tVe95H\">3.81 cm (1.5 inch) NA Display</li><li class=\"tVe95H\">800 mAh Battery</li><li class=\"tVe95H\">0 0 0 0 Processor Processor</li><li class=\"tVe95H\">1 Year for Mobile &amp; 6 Months for Accessories</li></ul></div>,\n",
       " <div class=\"_3ULzGw\"><ul class=\"vFw0gD\"><li class=\"tVe95H\">NA ROM |</li><li class=\"tVe95H\">3.81 cm (1.5 inch) NA Display</li><li class=\"tVe95H\">800 mAh Battery</li><li class=\"tVe95H\">0 0 0 0 Processor Processor</li><li class=\"tVe95H\">1 Year for Mobile &amp; 6 Months for Accessories</li></ul></div>,\n",
       " <div class=\"_3ULzGw\"><ul class=\"vFw0gD\"><li class=\"tVe95H\">NA ROM |</li><li class=\"tVe95H\">5.08 cm (2 inch) QVGA Display</li><li class=\"tVe95H\">800 mAh Battery</li><li class=\"tVe95H\">1 Year Manufacturer Warranty</li></ul></div>,\n",
       " <div class=\"_3ULzGw\"><ul class=\"vFw0gD\"><li class=\"tVe95H\">NA ROM |</li><li class=\"tVe95H\">3.81 cm (1.5 inch) Display</li><li class=\"tVe95H\">800 mAh Battery</li><li class=\"tVe95H\">1 year warranty on handset and 6 months warranty on the accessories.</li></ul></div>,\n",
       " <div class=\"_3ULzGw\"><ul class=\"vFw0gD\"><li class=\"tVe95H\">NA ROM |</li><li class=\"tVe95H\">3.81 cm (1.5 inch) VGA Display</li><li class=\"tVe95H\">800 mAh Battery</li><li class=\"tVe95H\">1 Year Manufacturer Warranty</li></ul></div>,\n",
       " <div class=\"_3ULzGw\"><ul class=\"vFw0gD\"><li class=\"tVe95H\">4 GB RAM | 64 GB ROM | Expandable Upto 512 GB</li><li class=\"tVe95H\">16.26 cm (6.4 inch) FHD+ Display</li><li class=\"tVe95H\">16MP + 5MP | 16MP Front Camera</li><li class=\"tVe95H\">4000 mAh Lithium-ion Battery</li><li class=\"tVe95H\">Exynos 7904 Processor</li><li class=\"tVe95H\">Super AMOLED Display</li><li class=\"tVe95H\">Brand Warranty of 1 Year Available for Mobile and 6 Months for Accessories</li></ul></div>,\n",
       " <div class=\"_3ULzGw\"><ul class=\"vFw0gD\"><li class=\"tVe95H\">2 GB RAM | 32 GB ROM | Expandable Upto 512 GB</li><li class=\"tVe95H\">15.75 cm (6.2 inch) HD+ Display</li><li class=\"tVe95H\">13MP Rear Camera | 5MP Front Camera</li><li class=\"tVe95H\">3400 mAh Lithium-ion Battery</li><li class=\"tVe95H\">Exynos 7884 Processor</li><li class=\"tVe95H\">Brand Warranty of 1 Year Available for Mobile and 6 Months for Accessories</li></ul></div>,\n",
       " <div class=\"_3ULzGw\"><ul class=\"vFw0gD\"><li class=\"tVe95H\">3 GB RAM | 32 GB ROM | Expandable Upto 512 GB</li><li class=\"tVe95H\">16.26 cm (6.4 inch) HD+ Display</li><li class=\"tVe95H\">13MP + 5MP | 8MP Front Camera</li><li class=\"tVe95H\">4000 mAh Lithium-ion Battery</li><li class=\"tVe95H\">Exynos 7884B Processor</li><li class=\"tVe95H\">Brand Warranty of 1 Year Available for Mobile and 6 Months for Accessories</li></ul></div>,\n",
       " <div class=\"_3ULzGw\"><ul class=\"vFw0gD\"><li class=\"tVe95H\">4 GB RAM | 64 GB ROM | Expandable Upto 512 GB</li><li class=\"tVe95H\">16.26 cm (6.4 inch) FHD+ Display</li><li class=\"tVe95H\">16MP + 5MP | 16MP Front Camera</li><li class=\"tVe95H\">4000 mAh Lithium-ion Battery</li><li class=\"tVe95H\">Exynos 7904 Processor</li><li class=\"tVe95H\">Super AMOLED Display</li><li class=\"tVe95H\">Brand Warranty of 1 Year Available for Mobile and 6 Months for Accessories</li></ul></div>,\n",
       " <div class=\"_3ULzGw\"><ul class=\"vFw0gD\"><li class=\"tVe95H\">NA ROM |</li><li class=\"tVe95H\">3.81 cm (1.5 inch) VGA Display</li><li class=\"tVe95H\">800 mAh Battery</li><li class=\"tVe95H\">1 year warranty on handset and 6 months warranty on the accessories.</li></ul></div>,\n",
       " <div class=\"_3ULzGw\"><ul class=\"vFw0gD\"><li class=\"tVe95H\">NA ROM |</li><li class=\"tVe95H\">3.81 cm (1.5 inch) Display</li><li class=\"tVe95H\">0MP Front Camera</li><li class=\"tVe95H\">800 mAh Battery</li><li class=\"tVe95H\">1 year warranty on handset and 6 months warranty on the accessories.</li></ul></div>,\n",
       " <div class=\"_3ULzGw\"><ul class=\"vFw0gD\"><li class=\"tVe95H\">12 GB RAM | 256 GB ROM | Expandable Upto 1 TB</li><li class=\"tVe95H\">17.27 cm (6.8 inch) Display</li><li class=\"tVe95H\">12MP (Dual Aperture) + 12MP + 16MP + TOF | 10MP Front Camera</li><li class=\"tVe95H\">4300 mAh Battery</li><li class=\"tVe95H\">Brand Warranty of 1 Year Available for Mobile and 6 Months for Accessories</li></ul></div>,\n",
       " <div class=\"_3ULzGw\"><ul class=\"vFw0gD\"><li class=\"tVe95H\">2 GB RAM | 32 GB ROM | Expandable Upto 512 GB</li><li class=\"tVe95H\">15.75 cm (6.2 inch) HD+ Display</li><li class=\"tVe95H\">13MP Rear Camera | 5MP Front Camera</li><li class=\"tVe95H\">3400 mAh Lithium-ion Battery</li><li class=\"tVe95H\">Exynos 7884 Processor</li><li class=\"tVe95H\">Brand Warranty of 1 Year Available for Mobile and 6 Months for Accessories</li></ul></div>,\n",
       " <div class=\"_3ULzGw\"><ul class=\"vFw0gD\"><li class=\"tVe95H\">3 GB RAM | 32 GB ROM | Expandable Upto 512 MB</li><li class=\"tVe95H\">16.0 cm (6.3 inch) Full HD+ Display</li><li class=\"tVe95H\">5MP Rear Camera | 8MP + 8MP Dual Front Camera</li><li class=\"tVe95H\">5000 mAh Battery</li><li class=\"tVe95H\">1 year manufacturer warranty for device and 6 months manufacturer warranty for in-box accessories including batteries from the date of purchase</li></ul></div>,\n",
       " <div class=\"_3ULzGw\"><ul class=\"vFw0gD\"><li class=\"tVe95H\">6 GB RAM | 64 GB ROM |</li><li class=\"tVe95H\">15.24 cm (6 inch) Display</li><li class=\"tVe95H\">16MP Rear Camera</li><li class=\"tVe95H\">3500 mAh Battery</li><li class=\"tVe95H\">1 Year Warranty</li></ul></div>,\n",
       " <div class=\"_3ULzGw\"><ul class=\"vFw0gD\"><li class=\"tVe95H\">1 GB RAM | 16 GB ROM | Expandable Upto 256 GB</li><li class=\"tVe95H\">12.7 cm (5 inch) Quad HD Display</li><li class=\"tVe95H\">5MP Rear Camera | 5MP Front Camera</li><li class=\"tVe95H\">2600 mAh Lithium-ion Battery</li><li class=\"tVe95H\">Exynos 7870 Processor</li><li class=\"tVe95H\">Brand Warranty of 1 Year Available for Mobile and 6 Months for Accessories</li></ul></div>,\n",
       " <div class=\"_3ULzGw\"><ul class=\"vFw0gD\"><li class=\"tVe95H\">16 MB RAM | 2 MB ROM |</li><li class=\"tVe95H\">5.08 cm (2 inch) Display</li><li class=\"tVe95H\">0.3MP Rear Camera</li><li class=\"tVe95H\">1000 mAh Battery</li><li class=\"tVe95H\">1 Year Manufacturer Warranty</li></ul></div>,\n",
       " <div class=\"_3ULzGw\"><ul class=\"vFw0gD\"><li class=\"tVe95H\">3 GB RAM | 32 GB ROM |</li><li class=\"tVe95H\">15.8 cm (6.22 inch) Display</li><li class=\"tVe95H\">13MP Rear Camera</li><li class=\"tVe95H\">3400 mAh Battery</li><li class=\"tVe95H\">12 Months</li></ul></div>,\n",
       " <div class=\"_3ULzGw\"><ul class=\"vFw0gD\"><li class=\"tVe95H\">10 MB RAM | 2 MB ROM | Expandable Upto 16 GB</li><li class=\"tVe95H\">5.08 cm (2 inch) QVGA Display</li><li class=\"tVe95H\">0.3MP Rear Camera</li><li class=\"tVe95H\">1000 mAh Battery</li><li class=\"tVe95H\">0 0 0 0 Processor Processor</li><li class=\"tVe95H\">1 Year Manufacturer Warranty</li></ul></div>,\n",
       " <div class=\"_3ULzGw\"><ul class=\"vFw0gD\"><li class=\"tVe95H\">3 GB RAM | 32 GB ROM |</li><li class=\"tVe95H\">16.0 cm (6.3 inch) Display</li><li class=\"tVe95H\">13MP Rear Camera</li><li class=\"tVe95H\">5000 mAh Battery</li><li class=\"tVe95H\">12 months</li></ul></div>,\n",
       " <div class=\"_3ULzGw\"><ul class=\"vFw0gD\"><li class=\"tVe95H\">4 GB RAM | 64 GB ROM |</li><li class=\"tVe95H\">16.0 cm (6.3 inch) Display</li><li class=\"tVe95H\">13MP Rear Camera</li><li class=\"tVe95H\">5000 mAh Battery</li><li class=\"tVe95H\">12 months</li></ul></div>,\n",
       " <div class=\"_3ULzGw\"><ul class=\"vFw0gD\"><li class=\"tVe95H\">4 GB RAM | 64 GB ROM |</li><li class=\"tVe95H\">16.26 cm (6.4 inch) Display</li><li class=\"tVe95H\">13MP Rear Camera</li><li class=\"tVe95H\">5000 mAh Battery</li><li class=\"tVe95H\">12 Months</li></ul></div>]"
      ]
     },
     "execution_count": 20,
     "metadata": {},
     "output_type": "execute_result"
    }
   ],
   "source": [
    "inches"
   ]
  },
  {
   "cell_type": "code",
   "execution_count": 21,
   "metadata": {},
   "outputs": [
    {
     "data": {
      "text/plain": [
       "[<div class=\"_3ULzGw\"><ul class=\"vFw0gD\"><li class=\"tVe95H\">4 GB RAM | 64 GB ROM | Expandable Upto 256 GB</li><li class=\"tVe95H\">14.22 cm (5.6 inch) HD+ Display</li><li class=\"tVe95H\">13MP Rear Camera | 8MP Front Camera</li><li class=\"tVe95H\">3000 mAh Battery</li><li class=\"tVe95H\">Exynos 7870 Processor</li><li class=\"tVe95H\">Brand Warranty of 1 Year Available for Mobile and 6 Months for Accessories</li></ul></div>,\n",
       " <div class=\"_3ULzGw\"><ul class=\"vFw0gD\"><li class=\"tVe95H\">4 GB RAM | 64 GB ROM | Expandable Upto 256 GB</li><li class=\"tVe95H\">14.22 cm (5.6 inch) HD+ Display</li><li class=\"tVe95H\">13MP Rear Camera | 8MP Front Camera</li><li class=\"tVe95H\">3000 mAh Battery</li><li class=\"tVe95H\">Exynos 7870 Processor</li><li class=\"tVe95H\">Brand Warranty of 1 Year Available for Mobile and 6 Months for Accessories</li></ul></div>,\n",
       " <div class=\"_3ULzGw\"><ul class=\"vFw0gD\"><li class=\"tVe95H\">NA ROM |</li><li class=\"tVe95H\">3.81 cm (1.5 inch) NA Display</li><li class=\"tVe95H\">800 mAh Battery</li><li class=\"tVe95H\">0 0 0 0 Processor Processor</li><li class=\"tVe95H\">1 Year for Mobile &amp; 6 Months for Accessories</li></ul></div>,\n",
       " <div class=\"_3ULzGw\"><ul class=\"vFw0gD\"><li class=\"tVe95H\">NA ROM |</li><li class=\"tVe95H\">3.81 cm (1.5 inch) NA Display</li><li class=\"tVe95H\">800 mAh Battery</li><li class=\"tVe95H\">0 0 0 0 Processor Processor</li><li class=\"tVe95H\">1 Year for Mobile &amp; 6 Months for Accessories</li></ul></div>,\n",
       " <div class=\"_3ULzGw\"><ul class=\"vFw0gD\"><li class=\"tVe95H\">NA ROM |</li><li class=\"tVe95H\">5.08 cm (2 inch) QVGA Display</li><li class=\"tVe95H\">800 mAh Battery</li><li class=\"tVe95H\">1 Year Manufacturer Warranty</li></ul></div>,\n",
       " <div class=\"_3ULzGw\"><ul class=\"vFw0gD\"><li class=\"tVe95H\">NA ROM |</li><li class=\"tVe95H\">3.81 cm (1.5 inch) Display</li><li class=\"tVe95H\">800 mAh Battery</li><li class=\"tVe95H\">1 year warranty on handset and 6 months warranty on the accessories.</li></ul></div>,\n",
       " <div class=\"_3ULzGw\"><ul class=\"vFw0gD\"><li class=\"tVe95H\">NA ROM |</li><li class=\"tVe95H\">3.81 cm (1.5 inch) VGA Display</li><li class=\"tVe95H\">800 mAh Battery</li><li class=\"tVe95H\">1 Year Manufacturer Warranty</li></ul></div>,\n",
       " <div class=\"_3ULzGw\"><ul class=\"vFw0gD\"><li class=\"tVe95H\">4 GB RAM | 64 GB ROM | Expandable Upto 512 GB</li><li class=\"tVe95H\">16.26 cm (6.4 inch) FHD+ Display</li><li class=\"tVe95H\">16MP + 5MP | 16MP Front Camera</li><li class=\"tVe95H\">4000 mAh Lithium-ion Battery</li><li class=\"tVe95H\">Exynos 7904 Processor</li><li class=\"tVe95H\">Super AMOLED Display</li><li class=\"tVe95H\">Brand Warranty of 1 Year Available for Mobile and 6 Months for Accessories</li></ul></div>,\n",
       " <div class=\"_3ULzGw\"><ul class=\"vFw0gD\"><li class=\"tVe95H\">2 GB RAM | 32 GB ROM | Expandable Upto 512 GB</li><li class=\"tVe95H\">15.75 cm (6.2 inch) HD+ Display</li><li class=\"tVe95H\">13MP Rear Camera | 5MP Front Camera</li><li class=\"tVe95H\">3400 mAh Lithium-ion Battery</li><li class=\"tVe95H\">Exynos 7884 Processor</li><li class=\"tVe95H\">Brand Warranty of 1 Year Available for Mobile and 6 Months for Accessories</li></ul></div>,\n",
       " <div class=\"_3ULzGw\"><ul class=\"vFw0gD\"><li class=\"tVe95H\">3 GB RAM | 32 GB ROM | Expandable Upto 512 GB</li><li class=\"tVe95H\">16.26 cm (6.4 inch) HD+ Display</li><li class=\"tVe95H\">13MP + 5MP | 8MP Front Camera</li><li class=\"tVe95H\">4000 mAh Lithium-ion Battery</li><li class=\"tVe95H\">Exynos 7884B Processor</li><li class=\"tVe95H\">Brand Warranty of 1 Year Available for Mobile and 6 Months for Accessories</li></ul></div>,\n",
       " <div class=\"_3ULzGw\"><ul class=\"vFw0gD\"><li class=\"tVe95H\">4 GB RAM | 64 GB ROM | Expandable Upto 512 GB</li><li class=\"tVe95H\">16.26 cm (6.4 inch) FHD+ Display</li><li class=\"tVe95H\">16MP + 5MP | 16MP Front Camera</li><li class=\"tVe95H\">4000 mAh Lithium-ion Battery</li><li class=\"tVe95H\">Exynos 7904 Processor</li><li class=\"tVe95H\">Super AMOLED Display</li><li class=\"tVe95H\">Brand Warranty of 1 Year Available for Mobile and 6 Months for Accessories</li></ul></div>,\n",
       " <div class=\"_3ULzGw\"><ul class=\"vFw0gD\"><li class=\"tVe95H\">NA ROM |</li><li class=\"tVe95H\">3.81 cm (1.5 inch) VGA Display</li><li class=\"tVe95H\">800 mAh Battery</li><li class=\"tVe95H\">1 year warranty on handset and 6 months warranty on the accessories.</li></ul></div>,\n",
       " <div class=\"_3ULzGw\"><ul class=\"vFw0gD\"><li class=\"tVe95H\">NA ROM |</li><li class=\"tVe95H\">3.81 cm (1.5 inch) Display</li><li class=\"tVe95H\">0MP Front Camera</li><li class=\"tVe95H\">800 mAh Battery</li><li class=\"tVe95H\">1 year warranty on handset and 6 months warranty on the accessories.</li></ul></div>,\n",
       " <div class=\"_3ULzGw\"><ul class=\"vFw0gD\"><li class=\"tVe95H\">12 GB RAM | 256 GB ROM | Expandable Upto 1 TB</li><li class=\"tVe95H\">17.27 cm (6.8 inch) Display</li><li class=\"tVe95H\">12MP (Dual Aperture) + 12MP + 16MP + TOF | 10MP Front Camera</li><li class=\"tVe95H\">4300 mAh Battery</li><li class=\"tVe95H\">Brand Warranty of 1 Year Available for Mobile and 6 Months for Accessories</li></ul></div>,\n",
       " <div class=\"_3ULzGw\"><ul class=\"vFw0gD\"><li class=\"tVe95H\">2 GB RAM | 32 GB ROM | Expandable Upto 512 GB</li><li class=\"tVe95H\">15.75 cm (6.2 inch) HD+ Display</li><li class=\"tVe95H\">13MP Rear Camera | 5MP Front Camera</li><li class=\"tVe95H\">3400 mAh Lithium-ion Battery</li><li class=\"tVe95H\">Exynos 7884 Processor</li><li class=\"tVe95H\">Brand Warranty of 1 Year Available for Mobile and 6 Months for Accessories</li></ul></div>,\n",
       " <div class=\"_3ULzGw\"><ul class=\"vFw0gD\"><li class=\"tVe95H\">3 GB RAM | 32 GB ROM | Expandable Upto 512 MB</li><li class=\"tVe95H\">16.0 cm (6.3 inch) Full HD+ Display</li><li class=\"tVe95H\">5MP Rear Camera | 8MP + 8MP Dual Front Camera</li><li class=\"tVe95H\">5000 mAh Battery</li><li class=\"tVe95H\">1 year manufacturer warranty for device and 6 months manufacturer warranty for in-box accessories including batteries from the date of purchase</li></ul></div>,\n",
       " <div class=\"_3ULzGw\"><ul class=\"vFw0gD\"><li class=\"tVe95H\">6 GB RAM | 64 GB ROM |</li><li class=\"tVe95H\">15.24 cm (6 inch) Display</li><li class=\"tVe95H\">16MP Rear Camera</li><li class=\"tVe95H\">3500 mAh Battery</li><li class=\"tVe95H\">1 Year Warranty</li></ul></div>,\n",
       " <div class=\"_3ULzGw\"><ul class=\"vFw0gD\"><li class=\"tVe95H\">1 GB RAM | 16 GB ROM | Expandable Upto 256 GB</li><li class=\"tVe95H\">12.7 cm (5 inch) Quad HD Display</li><li class=\"tVe95H\">5MP Rear Camera | 5MP Front Camera</li><li class=\"tVe95H\">2600 mAh Lithium-ion Battery</li><li class=\"tVe95H\">Exynos 7870 Processor</li><li class=\"tVe95H\">Brand Warranty of 1 Year Available for Mobile and 6 Months for Accessories</li></ul></div>,\n",
       " <div class=\"_3ULzGw\"><ul class=\"vFw0gD\"><li class=\"tVe95H\">16 MB RAM | 2 MB ROM |</li><li class=\"tVe95H\">5.08 cm (2 inch) Display</li><li class=\"tVe95H\">0.3MP Rear Camera</li><li class=\"tVe95H\">1000 mAh Battery</li><li class=\"tVe95H\">1 Year Manufacturer Warranty</li></ul></div>,\n",
       " <div class=\"_3ULzGw\"><ul class=\"vFw0gD\"><li class=\"tVe95H\">3 GB RAM | 32 GB ROM |</li><li class=\"tVe95H\">15.8 cm (6.22 inch) Display</li><li class=\"tVe95H\">13MP Rear Camera</li><li class=\"tVe95H\">3400 mAh Battery</li><li class=\"tVe95H\">12 Months</li></ul></div>,\n",
       " <div class=\"_3ULzGw\"><ul class=\"vFw0gD\"><li class=\"tVe95H\">10 MB RAM | 2 MB ROM | Expandable Upto 16 GB</li><li class=\"tVe95H\">5.08 cm (2 inch) QVGA Display</li><li class=\"tVe95H\">0.3MP Rear Camera</li><li class=\"tVe95H\">1000 mAh Battery</li><li class=\"tVe95H\">0 0 0 0 Processor Processor</li><li class=\"tVe95H\">1 Year Manufacturer Warranty</li></ul></div>,\n",
       " <div class=\"_3ULzGw\"><ul class=\"vFw0gD\"><li class=\"tVe95H\">3 GB RAM | 32 GB ROM |</li><li class=\"tVe95H\">16.0 cm (6.3 inch) Display</li><li class=\"tVe95H\">13MP Rear Camera</li><li class=\"tVe95H\">5000 mAh Battery</li><li class=\"tVe95H\">12 months</li></ul></div>,\n",
       " <div class=\"_3ULzGw\"><ul class=\"vFw0gD\"><li class=\"tVe95H\">4 GB RAM | 64 GB ROM |</li><li class=\"tVe95H\">16.0 cm (6.3 inch) Display</li><li class=\"tVe95H\">13MP Rear Camera</li><li class=\"tVe95H\">5000 mAh Battery</li><li class=\"tVe95H\">12 months</li></ul></div>,\n",
       " <div class=\"_3ULzGw\"><ul class=\"vFw0gD\"><li class=\"tVe95H\">4 GB RAM | 64 GB ROM |</li><li class=\"tVe95H\">16.26 cm (6.4 inch) Display</li><li class=\"tVe95H\">13MP Rear Camera</li><li class=\"tVe95H\">5000 mAh Battery</li><li class=\"tVe95H\">12 Months</li></ul></div>]"
      ]
     },
     "execution_count": 21,
     "metadata": {},
     "output_type": "execute_result"
    }
   ],
   "source": [
    "processor = page_soup.findAll(\"div\",class_ = \"_3ULzGw\")\n",
    "processor"
   ]
  },
  {
   "cell_type": "code",
   "execution_count": 22,
   "metadata": {},
   "outputs": [
    {
     "data": {
      "text/plain": [
       "[<div class=\"_3ULzGw\"><ul class=\"vFw0gD\"><li class=\"tVe95H\">4 GB RAM | 64 GB ROM | Expandable Upto 256 GB</li><li class=\"tVe95H\">14.22 cm (5.6 inch) HD+ Display</li><li class=\"tVe95H\">13MP Rear Camera | 8MP Front Camera</li><li class=\"tVe95H\">3000 mAh Battery</li><li class=\"tVe95H\">Exynos 7870 Processor</li><li class=\"tVe95H\">Brand Warranty of 1 Year Available for Mobile and 6 Months for Accessories</li></ul></div>,\n",
       " <div class=\"_3ULzGw\"><ul class=\"vFw0gD\"><li class=\"tVe95H\">4 GB RAM | 64 GB ROM | Expandable Upto 256 GB</li><li class=\"tVe95H\">14.22 cm (5.6 inch) HD+ Display</li><li class=\"tVe95H\">13MP Rear Camera | 8MP Front Camera</li><li class=\"tVe95H\">3000 mAh Battery</li><li class=\"tVe95H\">Exynos 7870 Processor</li><li class=\"tVe95H\">Brand Warranty of 1 Year Available for Mobile and 6 Months for Accessories</li></ul></div>,\n",
       " <div class=\"_3ULzGw\"><ul class=\"vFw0gD\"><li class=\"tVe95H\">NA ROM |</li><li class=\"tVe95H\">3.81 cm (1.5 inch) NA Display</li><li class=\"tVe95H\">800 mAh Battery</li><li class=\"tVe95H\">0 0 0 0 Processor Processor</li><li class=\"tVe95H\">1 Year for Mobile &amp; 6 Months for Accessories</li></ul></div>,\n",
       " <div class=\"_3ULzGw\"><ul class=\"vFw0gD\"><li class=\"tVe95H\">NA ROM |</li><li class=\"tVe95H\">3.81 cm (1.5 inch) NA Display</li><li class=\"tVe95H\">800 mAh Battery</li><li class=\"tVe95H\">0 0 0 0 Processor Processor</li><li class=\"tVe95H\">1 Year for Mobile &amp; 6 Months for Accessories</li></ul></div>,\n",
       " <div class=\"_3ULzGw\"><ul class=\"vFw0gD\"><li class=\"tVe95H\">NA ROM |</li><li class=\"tVe95H\">5.08 cm (2 inch) QVGA Display</li><li class=\"tVe95H\">800 mAh Battery</li><li class=\"tVe95H\">1 Year Manufacturer Warranty</li></ul></div>,\n",
       " <div class=\"_3ULzGw\"><ul class=\"vFw0gD\"><li class=\"tVe95H\">NA ROM |</li><li class=\"tVe95H\">3.81 cm (1.5 inch) Display</li><li class=\"tVe95H\">800 mAh Battery</li><li class=\"tVe95H\">1 year warranty on handset and 6 months warranty on the accessories.</li></ul></div>,\n",
       " <div class=\"_3ULzGw\"><ul class=\"vFw0gD\"><li class=\"tVe95H\">NA ROM |</li><li class=\"tVe95H\">3.81 cm (1.5 inch) VGA Display</li><li class=\"tVe95H\">800 mAh Battery</li><li class=\"tVe95H\">1 Year Manufacturer Warranty</li></ul></div>,\n",
       " <div class=\"_3ULzGw\"><ul class=\"vFw0gD\"><li class=\"tVe95H\">4 GB RAM | 64 GB ROM | Expandable Upto 512 GB</li><li class=\"tVe95H\">16.26 cm (6.4 inch) FHD+ Display</li><li class=\"tVe95H\">16MP + 5MP | 16MP Front Camera</li><li class=\"tVe95H\">4000 mAh Lithium-ion Battery</li><li class=\"tVe95H\">Exynos 7904 Processor</li><li class=\"tVe95H\">Super AMOLED Display</li><li class=\"tVe95H\">Brand Warranty of 1 Year Available for Mobile and 6 Months for Accessories</li></ul></div>,\n",
       " <div class=\"_3ULzGw\"><ul class=\"vFw0gD\"><li class=\"tVe95H\">2 GB RAM | 32 GB ROM | Expandable Upto 512 GB</li><li class=\"tVe95H\">15.75 cm (6.2 inch) HD+ Display</li><li class=\"tVe95H\">13MP Rear Camera | 5MP Front Camera</li><li class=\"tVe95H\">3400 mAh Lithium-ion Battery</li><li class=\"tVe95H\">Exynos 7884 Processor</li><li class=\"tVe95H\">Brand Warranty of 1 Year Available for Mobile and 6 Months for Accessories</li></ul></div>,\n",
       " <div class=\"_3ULzGw\"><ul class=\"vFw0gD\"><li class=\"tVe95H\">3 GB RAM | 32 GB ROM | Expandable Upto 512 GB</li><li class=\"tVe95H\">16.26 cm (6.4 inch) HD+ Display</li><li class=\"tVe95H\">13MP + 5MP | 8MP Front Camera</li><li class=\"tVe95H\">4000 mAh Lithium-ion Battery</li><li class=\"tVe95H\">Exynos 7884B Processor</li><li class=\"tVe95H\">Brand Warranty of 1 Year Available for Mobile and 6 Months for Accessories</li></ul></div>,\n",
       " <div class=\"_3ULzGw\"><ul class=\"vFw0gD\"><li class=\"tVe95H\">4 GB RAM | 64 GB ROM | Expandable Upto 512 GB</li><li class=\"tVe95H\">16.26 cm (6.4 inch) FHD+ Display</li><li class=\"tVe95H\">16MP + 5MP | 16MP Front Camera</li><li class=\"tVe95H\">4000 mAh Lithium-ion Battery</li><li class=\"tVe95H\">Exynos 7904 Processor</li><li class=\"tVe95H\">Super AMOLED Display</li><li class=\"tVe95H\">Brand Warranty of 1 Year Available for Mobile and 6 Months for Accessories</li></ul></div>,\n",
       " <div class=\"_3ULzGw\"><ul class=\"vFw0gD\"><li class=\"tVe95H\">NA ROM |</li><li class=\"tVe95H\">3.81 cm (1.5 inch) VGA Display</li><li class=\"tVe95H\">800 mAh Battery</li><li class=\"tVe95H\">1 year warranty on handset and 6 months warranty on the accessories.</li></ul></div>,\n",
       " <div class=\"_3ULzGw\"><ul class=\"vFw0gD\"><li class=\"tVe95H\">NA ROM |</li><li class=\"tVe95H\">3.81 cm (1.5 inch) Display</li><li class=\"tVe95H\">0MP Front Camera</li><li class=\"tVe95H\">800 mAh Battery</li><li class=\"tVe95H\">1 year warranty on handset and 6 months warranty on the accessories.</li></ul></div>,\n",
       " <div class=\"_3ULzGw\"><ul class=\"vFw0gD\"><li class=\"tVe95H\">12 GB RAM | 256 GB ROM | Expandable Upto 1 TB</li><li class=\"tVe95H\">17.27 cm (6.8 inch) Display</li><li class=\"tVe95H\">12MP (Dual Aperture) + 12MP + 16MP + TOF | 10MP Front Camera</li><li class=\"tVe95H\">4300 mAh Battery</li><li class=\"tVe95H\">Brand Warranty of 1 Year Available for Mobile and 6 Months for Accessories</li></ul></div>,\n",
       " <div class=\"_3ULzGw\"><ul class=\"vFw0gD\"><li class=\"tVe95H\">2 GB RAM | 32 GB ROM | Expandable Upto 512 GB</li><li class=\"tVe95H\">15.75 cm (6.2 inch) HD+ Display</li><li class=\"tVe95H\">13MP Rear Camera | 5MP Front Camera</li><li class=\"tVe95H\">3400 mAh Lithium-ion Battery</li><li class=\"tVe95H\">Exynos 7884 Processor</li><li class=\"tVe95H\">Brand Warranty of 1 Year Available for Mobile and 6 Months for Accessories</li></ul></div>,\n",
       " <div class=\"_3ULzGw\"><ul class=\"vFw0gD\"><li class=\"tVe95H\">3 GB RAM | 32 GB ROM | Expandable Upto 512 MB</li><li class=\"tVe95H\">16.0 cm (6.3 inch) Full HD+ Display</li><li class=\"tVe95H\">5MP Rear Camera | 8MP + 8MP Dual Front Camera</li><li class=\"tVe95H\">5000 mAh Battery</li><li class=\"tVe95H\">1 year manufacturer warranty for device and 6 months manufacturer warranty for in-box accessories including batteries from the date of purchase</li></ul></div>,\n",
       " <div class=\"_3ULzGw\"><ul class=\"vFw0gD\"><li class=\"tVe95H\">6 GB RAM | 64 GB ROM |</li><li class=\"tVe95H\">15.24 cm (6 inch) Display</li><li class=\"tVe95H\">16MP Rear Camera</li><li class=\"tVe95H\">3500 mAh Battery</li><li class=\"tVe95H\">1 Year Warranty</li></ul></div>,\n",
       " <div class=\"_3ULzGw\"><ul class=\"vFw0gD\"><li class=\"tVe95H\">1 GB RAM | 16 GB ROM | Expandable Upto 256 GB</li><li class=\"tVe95H\">12.7 cm (5 inch) Quad HD Display</li><li class=\"tVe95H\">5MP Rear Camera | 5MP Front Camera</li><li class=\"tVe95H\">2600 mAh Lithium-ion Battery</li><li class=\"tVe95H\">Exynos 7870 Processor</li><li class=\"tVe95H\">Brand Warranty of 1 Year Available for Mobile and 6 Months for Accessories</li></ul></div>,\n",
       " <div class=\"_3ULzGw\"><ul class=\"vFw0gD\"><li class=\"tVe95H\">16 MB RAM | 2 MB ROM |</li><li class=\"tVe95H\">5.08 cm (2 inch) Display</li><li class=\"tVe95H\">0.3MP Rear Camera</li><li class=\"tVe95H\">1000 mAh Battery</li><li class=\"tVe95H\">1 Year Manufacturer Warranty</li></ul></div>,\n",
       " <div class=\"_3ULzGw\"><ul class=\"vFw0gD\"><li class=\"tVe95H\">3 GB RAM | 32 GB ROM |</li><li class=\"tVe95H\">15.8 cm (6.22 inch) Display</li><li class=\"tVe95H\">13MP Rear Camera</li><li class=\"tVe95H\">3400 mAh Battery</li><li class=\"tVe95H\">12 Months</li></ul></div>,\n",
       " <div class=\"_3ULzGw\"><ul class=\"vFw0gD\"><li class=\"tVe95H\">10 MB RAM | 2 MB ROM | Expandable Upto 16 GB</li><li class=\"tVe95H\">5.08 cm (2 inch) QVGA Display</li><li class=\"tVe95H\">0.3MP Rear Camera</li><li class=\"tVe95H\">1000 mAh Battery</li><li class=\"tVe95H\">0 0 0 0 Processor Processor</li><li class=\"tVe95H\">1 Year Manufacturer Warranty</li></ul></div>,\n",
       " <div class=\"_3ULzGw\"><ul class=\"vFw0gD\"><li class=\"tVe95H\">3 GB RAM | 32 GB ROM |</li><li class=\"tVe95H\">16.0 cm (6.3 inch) Display</li><li class=\"tVe95H\">13MP Rear Camera</li><li class=\"tVe95H\">5000 mAh Battery</li><li class=\"tVe95H\">12 months</li></ul></div>,\n",
       " <div class=\"_3ULzGw\"><ul class=\"vFw0gD\"><li class=\"tVe95H\">4 GB RAM | 64 GB ROM |</li><li class=\"tVe95H\">16.0 cm (6.3 inch) Display</li><li class=\"tVe95H\">13MP Rear Camera</li><li class=\"tVe95H\">5000 mAh Battery</li><li class=\"tVe95H\">12 months</li></ul></div>,\n",
       " <div class=\"_3ULzGw\"><ul class=\"vFw0gD\"><li class=\"tVe95H\">4 GB RAM | 64 GB ROM |</li><li class=\"tVe95H\">16.26 cm (6.4 inch) Display</li><li class=\"tVe95H\">13MP Rear Camera</li><li class=\"tVe95H\">5000 mAh Battery</li><li class=\"tVe95H\">12 Months</li></ul></div>]"
      ]
     },
     "execution_count": 22,
     "metadata": {},
     "output_type": "execute_result"
    }
   ],
   "source": [
    "warrenty = page_soup.findAll(\"div\",class_ = \"_3ULzGw\")\n",
    "warrenty"
   ]
  },
  {
   "cell_type": "code",
   "execution_count": 23,
   "metadata": {},
   "outputs": [
    {
     "data": {
      "text/plain": [
       "[<div class=\"_3ULzGw\"><ul class=\"vFw0gD\"><li class=\"tVe95H\">4 GB RAM | 64 GB ROM | Expandable Upto 256 GB</li><li class=\"tVe95H\">14.22 cm (5.6 inch) HD+ Display</li><li class=\"tVe95H\">13MP Rear Camera | 8MP Front Camera</li><li class=\"tVe95H\">3000 mAh Battery</li><li class=\"tVe95H\">Exynos 7870 Processor</li><li class=\"tVe95H\">Brand Warranty of 1 Year Available for Mobile and 6 Months for Accessories</li></ul></div>,\n",
       " <div class=\"_3ULzGw\"><ul class=\"vFw0gD\"><li class=\"tVe95H\">4 GB RAM | 64 GB ROM | Expandable Upto 256 GB</li><li class=\"tVe95H\">14.22 cm (5.6 inch) HD+ Display</li><li class=\"tVe95H\">13MP Rear Camera | 8MP Front Camera</li><li class=\"tVe95H\">3000 mAh Battery</li><li class=\"tVe95H\">Exynos 7870 Processor</li><li class=\"tVe95H\">Brand Warranty of 1 Year Available for Mobile and 6 Months for Accessories</li></ul></div>,\n",
       " <div class=\"_3ULzGw\"><ul class=\"vFw0gD\"><li class=\"tVe95H\">NA ROM |</li><li class=\"tVe95H\">3.81 cm (1.5 inch) NA Display</li><li class=\"tVe95H\">800 mAh Battery</li><li class=\"tVe95H\">0 0 0 0 Processor Processor</li><li class=\"tVe95H\">1 Year for Mobile &amp; 6 Months for Accessories</li></ul></div>,\n",
       " <div class=\"_3ULzGw\"><ul class=\"vFw0gD\"><li class=\"tVe95H\">NA ROM |</li><li class=\"tVe95H\">3.81 cm (1.5 inch) NA Display</li><li class=\"tVe95H\">800 mAh Battery</li><li class=\"tVe95H\">0 0 0 0 Processor Processor</li><li class=\"tVe95H\">1 Year for Mobile &amp; 6 Months for Accessories</li></ul></div>,\n",
       " <div class=\"_3ULzGw\"><ul class=\"vFw0gD\"><li class=\"tVe95H\">NA ROM |</li><li class=\"tVe95H\">5.08 cm (2 inch) QVGA Display</li><li class=\"tVe95H\">800 mAh Battery</li><li class=\"tVe95H\">1 Year Manufacturer Warranty</li></ul></div>,\n",
       " <div class=\"_3ULzGw\"><ul class=\"vFw0gD\"><li class=\"tVe95H\">NA ROM |</li><li class=\"tVe95H\">3.81 cm (1.5 inch) Display</li><li class=\"tVe95H\">800 mAh Battery</li><li class=\"tVe95H\">1 year warranty on handset and 6 months warranty on the accessories.</li></ul></div>,\n",
       " <div class=\"_3ULzGw\"><ul class=\"vFw0gD\"><li class=\"tVe95H\">NA ROM |</li><li class=\"tVe95H\">3.81 cm (1.5 inch) VGA Display</li><li class=\"tVe95H\">800 mAh Battery</li><li class=\"tVe95H\">1 Year Manufacturer Warranty</li></ul></div>,\n",
       " <div class=\"_3ULzGw\"><ul class=\"vFw0gD\"><li class=\"tVe95H\">4 GB RAM | 64 GB ROM | Expandable Upto 512 GB</li><li class=\"tVe95H\">16.26 cm (6.4 inch) FHD+ Display</li><li class=\"tVe95H\">16MP + 5MP | 16MP Front Camera</li><li class=\"tVe95H\">4000 mAh Lithium-ion Battery</li><li class=\"tVe95H\">Exynos 7904 Processor</li><li class=\"tVe95H\">Super AMOLED Display</li><li class=\"tVe95H\">Brand Warranty of 1 Year Available for Mobile and 6 Months for Accessories</li></ul></div>,\n",
       " <div class=\"_3ULzGw\"><ul class=\"vFw0gD\"><li class=\"tVe95H\">2 GB RAM | 32 GB ROM | Expandable Upto 512 GB</li><li class=\"tVe95H\">15.75 cm (6.2 inch) HD+ Display</li><li class=\"tVe95H\">13MP Rear Camera | 5MP Front Camera</li><li class=\"tVe95H\">3400 mAh Lithium-ion Battery</li><li class=\"tVe95H\">Exynos 7884 Processor</li><li class=\"tVe95H\">Brand Warranty of 1 Year Available for Mobile and 6 Months for Accessories</li></ul></div>,\n",
       " <div class=\"_3ULzGw\"><ul class=\"vFw0gD\"><li class=\"tVe95H\">3 GB RAM | 32 GB ROM | Expandable Upto 512 GB</li><li class=\"tVe95H\">16.26 cm (6.4 inch) HD+ Display</li><li class=\"tVe95H\">13MP + 5MP | 8MP Front Camera</li><li class=\"tVe95H\">4000 mAh Lithium-ion Battery</li><li class=\"tVe95H\">Exynos 7884B Processor</li><li class=\"tVe95H\">Brand Warranty of 1 Year Available for Mobile and 6 Months for Accessories</li></ul></div>,\n",
       " <div class=\"_3ULzGw\"><ul class=\"vFw0gD\"><li class=\"tVe95H\">4 GB RAM | 64 GB ROM | Expandable Upto 512 GB</li><li class=\"tVe95H\">16.26 cm (6.4 inch) FHD+ Display</li><li class=\"tVe95H\">16MP + 5MP | 16MP Front Camera</li><li class=\"tVe95H\">4000 mAh Lithium-ion Battery</li><li class=\"tVe95H\">Exynos 7904 Processor</li><li class=\"tVe95H\">Super AMOLED Display</li><li class=\"tVe95H\">Brand Warranty of 1 Year Available for Mobile and 6 Months for Accessories</li></ul></div>,\n",
       " <div class=\"_3ULzGw\"><ul class=\"vFw0gD\"><li class=\"tVe95H\">NA ROM |</li><li class=\"tVe95H\">3.81 cm (1.5 inch) VGA Display</li><li class=\"tVe95H\">800 mAh Battery</li><li class=\"tVe95H\">1 year warranty on handset and 6 months warranty on the accessories.</li></ul></div>,\n",
       " <div class=\"_3ULzGw\"><ul class=\"vFw0gD\"><li class=\"tVe95H\">NA ROM |</li><li class=\"tVe95H\">3.81 cm (1.5 inch) Display</li><li class=\"tVe95H\">0MP Front Camera</li><li class=\"tVe95H\">800 mAh Battery</li><li class=\"tVe95H\">1 year warranty on handset and 6 months warranty on the accessories.</li></ul></div>,\n",
       " <div class=\"_3ULzGw\"><ul class=\"vFw0gD\"><li class=\"tVe95H\">12 GB RAM | 256 GB ROM | Expandable Upto 1 TB</li><li class=\"tVe95H\">17.27 cm (6.8 inch) Display</li><li class=\"tVe95H\">12MP (Dual Aperture) + 12MP + 16MP + TOF | 10MP Front Camera</li><li class=\"tVe95H\">4300 mAh Battery</li><li class=\"tVe95H\">Brand Warranty of 1 Year Available for Mobile and 6 Months for Accessories</li></ul></div>,\n",
       " <div class=\"_3ULzGw\"><ul class=\"vFw0gD\"><li class=\"tVe95H\">2 GB RAM | 32 GB ROM | Expandable Upto 512 GB</li><li class=\"tVe95H\">15.75 cm (6.2 inch) HD+ Display</li><li class=\"tVe95H\">13MP Rear Camera | 5MP Front Camera</li><li class=\"tVe95H\">3400 mAh Lithium-ion Battery</li><li class=\"tVe95H\">Exynos 7884 Processor</li><li class=\"tVe95H\">Brand Warranty of 1 Year Available for Mobile and 6 Months for Accessories</li></ul></div>,\n",
       " <div class=\"_3ULzGw\"><ul class=\"vFw0gD\"><li class=\"tVe95H\">3 GB RAM | 32 GB ROM | Expandable Upto 512 MB</li><li class=\"tVe95H\">16.0 cm (6.3 inch) Full HD+ Display</li><li class=\"tVe95H\">5MP Rear Camera | 8MP + 8MP Dual Front Camera</li><li class=\"tVe95H\">5000 mAh Battery</li><li class=\"tVe95H\">1 year manufacturer warranty for device and 6 months manufacturer warranty for in-box accessories including batteries from the date of purchase</li></ul></div>,\n",
       " <div class=\"_3ULzGw\"><ul class=\"vFw0gD\"><li class=\"tVe95H\">6 GB RAM | 64 GB ROM |</li><li class=\"tVe95H\">15.24 cm (6 inch) Display</li><li class=\"tVe95H\">16MP Rear Camera</li><li class=\"tVe95H\">3500 mAh Battery</li><li class=\"tVe95H\">1 Year Warranty</li></ul></div>,\n",
       " <div class=\"_3ULzGw\"><ul class=\"vFw0gD\"><li class=\"tVe95H\">1 GB RAM | 16 GB ROM | Expandable Upto 256 GB</li><li class=\"tVe95H\">12.7 cm (5 inch) Quad HD Display</li><li class=\"tVe95H\">5MP Rear Camera | 5MP Front Camera</li><li class=\"tVe95H\">2600 mAh Lithium-ion Battery</li><li class=\"tVe95H\">Exynos 7870 Processor</li><li class=\"tVe95H\">Brand Warranty of 1 Year Available for Mobile and 6 Months for Accessories</li></ul></div>,\n",
       " <div class=\"_3ULzGw\"><ul class=\"vFw0gD\"><li class=\"tVe95H\">16 MB RAM | 2 MB ROM |</li><li class=\"tVe95H\">5.08 cm (2 inch) Display</li><li class=\"tVe95H\">0.3MP Rear Camera</li><li class=\"tVe95H\">1000 mAh Battery</li><li class=\"tVe95H\">1 Year Manufacturer Warranty</li></ul></div>,\n",
       " <div class=\"_3ULzGw\"><ul class=\"vFw0gD\"><li class=\"tVe95H\">3 GB RAM | 32 GB ROM |</li><li class=\"tVe95H\">15.8 cm (6.22 inch) Display</li><li class=\"tVe95H\">13MP Rear Camera</li><li class=\"tVe95H\">3400 mAh Battery</li><li class=\"tVe95H\">12 Months</li></ul></div>,\n",
       " <div class=\"_3ULzGw\"><ul class=\"vFw0gD\"><li class=\"tVe95H\">10 MB RAM | 2 MB ROM | Expandable Upto 16 GB</li><li class=\"tVe95H\">5.08 cm (2 inch) QVGA Display</li><li class=\"tVe95H\">0.3MP Rear Camera</li><li class=\"tVe95H\">1000 mAh Battery</li><li class=\"tVe95H\">0 0 0 0 Processor Processor</li><li class=\"tVe95H\">1 Year Manufacturer Warranty</li></ul></div>,\n",
       " <div class=\"_3ULzGw\"><ul class=\"vFw0gD\"><li class=\"tVe95H\">3 GB RAM | 32 GB ROM |</li><li class=\"tVe95H\">16.0 cm (6.3 inch) Display</li><li class=\"tVe95H\">13MP Rear Camera</li><li class=\"tVe95H\">5000 mAh Battery</li><li class=\"tVe95H\">12 months</li></ul></div>,\n",
       " <div class=\"_3ULzGw\"><ul class=\"vFw0gD\"><li class=\"tVe95H\">4 GB RAM | 64 GB ROM |</li><li class=\"tVe95H\">16.0 cm (6.3 inch) Display</li><li class=\"tVe95H\">13MP Rear Camera</li><li class=\"tVe95H\">5000 mAh Battery</li><li class=\"tVe95H\">12 months</li></ul></div>,\n",
       " <div class=\"_3ULzGw\"><ul class=\"vFw0gD\"><li class=\"tVe95H\">4 GB RAM | 64 GB ROM |</li><li class=\"tVe95H\">16.26 cm (6.4 inch) Display</li><li class=\"tVe95H\">13MP Rear Camera</li><li class=\"tVe95H\">5000 mAh Battery</li><li class=\"tVe95H\">12 Months</li></ul></div>]"
      ]
     },
     "execution_count": 23,
     "metadata": {},
     "output_type": "execute_result"
    }
   ],
   "source": [
    "accessories = page_soup.findAll(\"div\",class_ = \"_3ULzGw\")\n",
    "accessories"
   ]
  },
  {
   "cell_type": "code",
   "execution_count": 24,
   "metadata": {},
   "outputs": [
    {
     "name": "stdout",
     "output_type": "stream",
     "text": [
      "₹9,490\n",
      "₹9,490\n",
      "₹1,100\n",
      "₹1,100\n",
      "₹1,625\n",
      "₹1,499\n",
      "₹1,375\n",
      "₹15,490\n",
      "₹7,990\n",
      "₹11,490\n",
      "₹15,490\n",
      "₹1,375\n",
      "₹1,375\n",
      "₹79,999\n",
      "₹7,990\n",
      "₹11,179\n",
      "₹16,949\n",
      "₹5,290\n",
      "₹2,025\n",
      "₹8,799\n",
      "₹1,990\n",
      "₹10,899\n",
      "₹13,389\n",
      "₹15,490\n"
     ]
    }
   ],
   "source": [
    "for i in price:\n",
    "    print(i.text)\n",
    "    "
   ]
  },
  {
   "cell_type": "code",
   "execution_count": 39,
   "metadata": {},
   "outputs": [
    {
     "name": "stdout",
     "output_type": "stream",
     "text": [
      "4.5\n",
      "4.5\n",
      "4.3\n",
      "4.3\n",
      "4.3\n",
      "4.3\n",
      "4.2\n",
      "4.4\n",
      "4.3\n",
      "4.3\n",
      "4.4\n",
      "4.3\n",
      "4.3\n",
      "4.8\n",
      "4.3\n",
      "4.3\n",
      "4.3\n",
      "4.1\n",
      "4.2\n",
      "4.3\n",
      "4.2\n",
      "4.3\n",
      "4.3\n",
      "4.4\n",
      "4.3\n",
      "5\n",
      "5\n",
      "4.3\n",
      "5\n",
      "4\n",
      "4.2\n",
      "4\n",
      "5\n",
      "4.3\n",
      "5\n",
      "5\n",
      "4.4\n",
      "5\n",
      "4\n"
     ]
    }
   ],
   "source": [
    "rate = []\n",
    "for i in rating:\n",
    "    print(i.text)\n",
    "    a = i.text\n",
    "    rate.append(a)\n",
    "    "
   ]
  },
  {
   "cell_type": "code",
   "execution_count": 27,
   "metadata": {},
   "outputs": [
    {
     "data": {
      "text/plain": [
       "'4 GB RAM '"
      ]
     },
     "execution_count": 27,
     "metadata": {},
     "output_type": "execute_result"
    }
   ],
   "source": [
    "a = ram[1].text\n",
    "b = a.split('|')\n",
    "b[0]"
   ]
  },
  {
   "cell_type": "code",
   "execution_count": 28,
   "metadata": {},
   "outputs": [
    {
     "name": "stdout",
     "output_type": "stream",
     "text": [
      "4 GB RAM | 64 GB ROM | Expandable Upto 256 GB14.22 cm (5.6 inch) HD+ Display13MP Rear Camera | 8MP Front Camera3000 mAh BatteryExynos 7870 ProcessorBrand Warranty of 1 Year Available for Mobile and 6 Months for Accessories\n",
      "4 GB RAM | 64 GB ROM | Expandable Upto 256 GB14.22 cm (5.6 inch) HD+ Display13MP Rear Camera | 8MP Front Camera3000 mAh BatteryExynos 7870 ProcessorBrand Warranty of 1 Year Available for Mobile and 6 Months for Accessories\n",
      "NA ROM |3.81 cm (1.5 inch) NA Display800 mAh Battery0 0 0 0 Processor Processor1 Year for Mobile & 6 Months for Accessories\n",
      "NA ROM |3.81 cm (1.5 inch) NA Display800 mAh Battery0 0 0 0 Processor Processor1 Year for Mobile & 6 Months for Accessories\n",
      "NA ROM |5.08 cm (2 inch) QVGA Display800 mAh Battery1 Year Manufacturer Warranty\n",
      "NA ROM |3.81 cm (1.5 inch) Display800 mAh Battery1 year warranty on handset and 6 months warranty on the accessories.\n",
      "NA ROM |3.81 cm (1.5 inch) VGA Display800 mAh Battery1 Year Manufacturer Warranty\n",
      "4 GB RAM | 64 GB ROM | Expandable Upto 512 GB16.26 cm (6.4 inch) FHD+ Display16MP + 5MP | 16MP Front Camera4000 mAh Lithium-ion BatteryExynos 7904 ProcessorSuper AMOLED DisplayBrand Warranty of 1 Year Available for Mobile and 6 Months for Accessories\n",
      "2 GB RAM | 32 GB ROM | Expandable Upto 512 GB15.75 cm (6.2 inch) HD+ Display13MP Rear Camera | 5MP Front Camera3400 mAh Lithium-ion BatteryExynos 7884 ProcessorBrand Warranty of 1 Year Available for Mobile and 6 Months for Accessories\n",
      "3 GB RAM | 32 GB ROM | Expandable Upto 512 GB16.26 cm (6.4 inch) HD+ Display13MP + 5MP | 8MP Front Camera4000 mAh Lithium-ion BatteryExynos 7884B ProcessorBrand Warranty of 1 Year Available for Mobile and 6 Months for Accessories\n",
      "4 GB RAM | 64 GB ROM | Expandable Upto 512 GB16.26 cm (6.4 inch) FHD+ Display16MP + 5MP | 16MP Front Camera4000 mAh Lithium-ion BatteryExynos 7904 ProcessorSuper AMOLED DisplayBrand Warranty of 1 Year Available for Mobile and 6 Months for Accessories\n",
      "NA ROM |3.81 cm (1.5 inch) VGA Display800 mAh Battery1 year warranty on handset and 6 months warranty on the accessories.\n",
      "NA ROM |3.81 cm (1.5 inch) Display0MP Front Camera800 mAh Battery1 year warranty on handset and 6 months warranty on the accessories.\n",
      "12 GB RAM | 256 GB ROM | Expandable Upto 1 TB17.27 cm (6.8 inch) Display12MP (Dual Aperture) + 12MP + 16MP + TOF | 10MP Front Camera4300 mAh BatteryBrand Warranty of 1 Year Available for Mobile and 6 Months for Accessories\n",
      "2 GB RAM | 32 GB ROM | Expandable Upto 512 GB15.75 cm (6.2 inch) HD+ Display13MP Rear Camera | 5MP Front Camera3400 mAh Lithium-ion BatteryExynos 7884 ProcessorBrand Warranty of 1 Year Available for Mobile and 6 Months for Accessories\n",
      "3 GB RAM | 32 GB ROM | Expandable Upto 512 MB16.0 cm (6.3 inch) Full HD+ Display5MP Rear Camera | 8MP + 8MP Dual Front Camera5000 mAh Battery1 year manufacturer warranty for device and 6 months manufacturer warranty for in-box accessories including batteries from the date of purchase\n",
      "6 GB RAM | 64 GB ROM |15.24 cm (6 inch) Display16MP Rear Camera3500 mAh Battery1 Year Warranty\n",
      "1 GB RAM | 16 GB ROM | Expandable Upto 256 GB12.7 cm (5 inch) Quad HD Display5MP Rear Camera | 5MP Front Camera2600 mAh Lithium-ion BatteryExynos 7870 ProcessorBrand Warranty of 1 Year Available for Mobile and 6 Months for Accessories\n",
      "16 MB RAM | 2 MB ROM |5.08 cm (2 inch) Display0.3MP Rear Camera1000 mAh Battery1 Year Manufacturer Warranty\n",
      "3 GB RAM | 32 GB ROM |15.8 cm (6.22 inch) Display13MP Rear Camera3400 mAh Battery12 Months\n",
      "10 MB RAM | 2 MB ROM | Expandable Upto 16 GB5.08 cm (2 inch) QVGA Display0.3MP Rear Camera1000 mAh Battery0 0 0 0 Processor Processor1 Year Manufacturer Warranty\n",
      "3 GB RAM | 32 GB ROM |16.0 cm (6.3 inch) Display13MP Rear Camera5000 mAh Battery12 months\n",
      "4 GB RAM | 64 GB ROM |16.0 cm (6.3 inch) Display13MP Rear Camera5000 mAh Battery12 months\n",
      "4 GB RAM | 64 GB ROM |16.26 cm (6.4 inch) Display13MP Rear Camera5000 mAh Battery12 Months\n"
     ]
    }
   ],
   "source": [
    "for i in ram:\n",
    "    #print(i.text)\n",
    "    a = i.text\n",
    "    print(a)"
   ]
  },
  {
   "cell_type": "code",
   "execution_count": 41,
   "metadata": {},
   "outputs": [
    {
     "data": {
      "text/plain": [
       "'4 GB RAM '"
      ]
     },
     "execution_count": 41,
     "metadata": {},
     "output_type": "execute_result"
    }
   ],
   "source": [
    "a =rom[1].text\n",
    "b = a.split('|')\n",
    "b[0]"
   ]
  },
  {
   "cell_type": "code",
   "execution_count": null,
   "metadata": {},
   "outputs": [],
   "source": []
  },
  {
   "cell_type": "code",
   "execution_count": 29,
   "metadata": {},
   "outputs": [
    {
     "name": "stdout",
     "output_type": "stream",
     "text": [
      "4 GB RAM | 64 GB ROM | Expandable Upto 256 GB14.22 cm (5.6 inch) HD+ Display13MP Rear Camera | 8MP Front Camera3000 mAh BatteryExynos 7870 ProcessorBrand Warranty of 1 Year Available for Mobile and 6 Months for Accessories\n",
      "4 GB RAM | 64 GB ROM | Expandable Upto 256 GB14.22 cm (5.6 inch) HD+ Display13MP Rear Camera | 8MP Front Camera3000 mAh BatteryExynos 7870 ProcessorBrand Warranty of 1 Year Available for Mobile and 6 Months for Accessories\n",
      "NA ROM |3.81 cm (1.5 inch) NA Display800 mAh Battery0 0 0 0 Processor Processor1 Year for Mobile & 6 Months for Accessories\n",
      "NA ROM |3.81 cm (1.5 inch) NA Display800 mAh Battery0 0 0 0 Processor Processor1 Year for Mobile & 6 Months for Accessories\n",
      "NA ROM |5.08 cm (2 inch) QVGA Display800 mAh Battery1 Year Manufacturer Warranty\n",
      "NA ROM |3.81 cm (1.5 inch) Display800 mAh Battery1 year warranty on handset and 6 months warranty on the accessories.\n",
      "NA ROM |3.81 cm (1.5 inch) VGA Display800 mAh Battery1 Year Manufacturer Warranty\n",
      "4 GB RAM | 64 GB ROM | Expandable Upto 512 GB16.26 cm (6.4 inch) FHD+ Display16MP + 5MP | 16MP Front Camera4000 mAh Lithium-ion BatteryExynos 7904 ProcessorSuper AMOLED DisplayBrand Warranty of 1 Year Available for Mobile and 6 Months for Accessories\n",
      "2 GB RAM | 32 GB ROM | Expandable Upto 512 GB15.75 cm (6.2 inch) HD+ Display13MP Rear Camera | 5MP Front Camera3400 mAh Lithium-ion BatteryExynos 7884 ProcessorBrand Warranty of 1 Year Available for Mobile and 6 Months for Accessories\n",
      "3 GB RAM | 32 GB ROM | Expandable Upto 512 GB16.26 cm (6.4 inch) HD+ Display13MP + 5MP | 8MP Front Camera4000 mAh Lithium-ion BatteryExynos 7884B ProcessorBrand Warranty of 1 Year Available for Mobile and 6 Months for Accessories\n",
      "4 GB RAM | 64 GB ROM | Expandable Upto 512 GB16.26 cm (6.4 inch) FHD+ Display16MP + 5MP | 16MP Front Camera4000 mAh Lithium-ion BatteryExynos 7904 ProcessorSuper AMOLED DisplayBrand Warranty of 1 Year Available for Mobile and 6 Months for Accessories\n",
      "NA ROM |3.81 cm (1.5 inch) VGA Display800 mAh Battery1 year warranty on handset and 6 months warranty on the accessories.\n",
      "NA ROM |3.81 cm (1.5 inch) Display0MP Front Camera800 mAh Battery1 year warranty on handset and 6 months warranty on the accessories.\n",
      "12 GB RAM | 256 GB ROM | Expandable Upto 1 TB17.27 cm (6.8 inch) Display12MP (Dual Aperture) + 12MP + 16MP + TOF | 10MP Front Camera4300 mAh BatteryBrand Warranty of 1 Year Available for Mobile and 6 Months for Accessories\n",
      "2 GB RAM | 32 GB ROM | Expandable Upto 512 GB15.75 cm (6.2 inch) HD+ Display13MP Rear Camera | 5MP Front Camera3400 mAh Lithium-ion BatteryExynos 7884 ProcessorBrand Warranty of 1 Year Available for Mobile and 6 Months for Accessories\n",
      "3 GB RAM | 32 GB ROM | Expandable Upto 512 MB16.0 cm (6.3 inch) Full HD+ Display5MP Rear Camera | 8MP + 8MP Dual Front Camera5000 mAh Battery1 year manufacturer warranty for device and 6 months manufacturer warranty for in-box accessories including batteries from the date of purchase\n",
      "6 GB RAM | 64 GB ROM |15.24 cm (6 inch) Display16MP Rear Camera3500 mAh Battery1 Year Warranty\n",
      "1 GB RAM | 16 GB ROM | Expandable Upto 256 GB12.7 cm (5 inch) Quad HD Display5MP Rear Camera | 5MP Front Camera2600 mAh Lithium-ion BatteryExynos 7870 ProcessorBrand Warranty of 1 Year Available for Mobile and 6 Months for Accessories\n",
      "16 MB RAM | 2 MB ROM |5.08 cm (2 inch) Display0.3MP Rear Camera1000 mAh Battery1 Year Manufacturer Warranty\n",
      "3 GB RAM | 32 GB ROM |15.8 cm (6.22 inch) Display13MP Rear Camera3400 mAh Battery12 Months\n",
      "10 MB RAM | 2 MB ROM | Expandable Upto 16 GB5.08 cm (2 inch) QVGA Display0.3MP Rear Camera1000 mAh Battery0 0 0 0 Processor Processor1 Year Manufacturer Warranty\n",
      "3 GB RAM | 32 GB ROM |16.0 cm (6.3 inch) Display13MP Rear Camera5000 mAh Battery12 months\n",
      "4 GB RAM | 64 GB ROM |16.0 cm (6.3 inch) Display13MP Rear Camera5000 mAh Battery12 months\n",
      "4 GB RAM | 64 GB ROM |16.26 cm (6.4 inch) Display13MP Rear Camera5000 mAh Battery12 Months\n"
     ]
    }
   ],
   "source": [
    "for i in rom:\n",
    "    print(i.text)\n",
    "    "
   ]
  },
  {
   "cell_type": "code",
   "execution_count": 30,
   "metadata": {},
   "outputs": [
    {
     "name": "stdout",
     "output_type": "stream",
     "text": [
      "4 GB RAM | 64 GB ROM | Expandable Upto 256 GB14.22 cm (5.6 inch) HD+ Display13MP Rear Camera | 8MP Front Camera3000 mAh BatteryExynos 7870 ProcessorBrand Warranty of 1 Year Available for Mobile and 6 Months for Accessories\n",
      "4 GB RAM | 64 GB ROM | Expandable Upto 256 GB14.22 cm (5.6 inch) HD+ Display13MP Rear Camera | 8MP Front Camera3000 mAh BatteryExynos 7870 ProcessorBrand Warranty of 1 Year Available for Mobile and 6 Months for Accessories\n",
      "NA ROM |3.81 cm (1.5 inch) NA Display800 mAh Battery0 0 0 0 Processor Processor1 Year for Mobile & 6 Months for Accessories\n",
      "NA ROM |3.81 cm (1.5 inch) NA Display800 mAh Battery0 0 0 0 Processor Processor1 Year for Mobile & 6 Months for Accessories\n",
      "NA ROM |5.08 cm (2 inch) QVGA Display800 mAh Battery1 Year Manufacturer Warranty\n",
      "NA ROM |3.81 cm (1.5 inch) Display800 mAh Battery1 year warranty on handset and 6 months warranty on the accessories.\n",
      "NA ROM |3.81 cm (1.5 inch) VGA Display800 mAh Battery1 Year Manufacturer Warranty\n",
      "4 GB RAM | 64 GB ROM | Expandable Upto 512 GB16.26 cm (6.4 inch) FHD+ Display16MP + 5MP | 16MP Front Camera4000 mAh Lithium-ion BatteryExynos 7904 ProcessorSuper AMOLED DisplayBrand Warranty of 1 Year Available for Mobile and 6 Months for Accessories\n",
      "2 GB RAM | 32 GB ROM | Expandable Upto 512 GB15.75 cm (6.2 inch) HD+ Display13MP Rear Camera | 5MP Front Camera3400 mAh Lithium-ion BatteryExynos 7884 ProcessorBrand Warranty of 1 Year Available for Mobile and 6 Months for Accessories\n",
      "3 GB RAM | 32 GB ROM | Expandable Upto 512 GB16.26 cm (6.4 inch) HD+ Display13MP + 5MP | 8MP Front Camera4000 mAh Lithium-ion BatteryExynos 7884B ProcessorBrand Warranty of 1 Year Available for Mobile and 6 Months for Accessories\n",
      "4 GB RAM | 64 GB ROM | Expandable Upto 512 GB16.26 cm (6.4 inch) FHD+ Display16MP + 5MP | 16MP Front Camera4000 mAh Lithium-ion BatteryExynos 7904 ProcessorSuper AMOLED DisplayBrand Warranty of 1 Year Available for Mobile and 6 Months for Accessories\n",
      "NA ROM |3.81 cm (1.5 inch) VGA Display800 mAh Battery1 year warranty on handset and 6 months warranty on the accessories.\n",
      "NA ROM |3.81 cm (1.5 inch) Display0MP Front Camera800 mAh Battery1 year warranty on handset and 6 months warranty on the accessories.\n",
      "12 GB RAM | 256 GB ROM | Expandable Upto 1 TB17.27 cm (6.8 inch) Display12MP (Dual Aperture) + 12MP + 16MP + TOF | 10MP Front Camera4300 mAh BatteryBrand Warranty of 1 Year Available for Mobile and 6 Months for Accessories\n",
      "2 GB RAM | 32 GB ROM | Expandable Upto 512 GB15.75 cm (6.2 inch) HD+ Display13MP Rear Camera | 5MP Front Camera3400 mAh Lithium-ion BatteryExynos 7884 ProcessorBrand Warranty of 1 Year Available for Mobile and 6 Months for Accessories\n",
      "3 GB RAM | 32 GB ROM | Expandable Upto 512 MB16.0 cm (6.3 inch) Full HD+ Display5MP Rear Camera | 8MP + 8MP Dual Front Camera5000 mAh Battery1 year manufacturer warranty for device and 6 months manufacturer warranty for in-box accessories including batteries from the date of purchase\n",
      "6 GB RAM | 64 GB ROM |15.24 cm (6 inch) Display16MP Rear Camera3500 mAh Battery1 Year Warranty\n",
      "1 GB RAM | 16 GB ROM | Expandable Upto 256 GB12.7 cm (5 inch) Quad HD Display5MP Rear Camera | 5MP Front Camera2600 mAh Lithium-ion BatteryExynos 7870 ProcessorBrand Warranty of 1 Year Available for Mobile and 6 Months for Accessories\n",
      "16 MB RAM | 2 MB ROM |5.08 cm (2 inch) Display0.3MP Rear Camera1000 mAh Battery1 Year Manufacturer Warranty\n",
      "3 GB RAM | 32 GB ROM |15.8 cm (6.22 inch) Display13MP Rear Camera3400 mAh Battery12 Months\n",
      "10 MB RAM | 2 MB ROM | Expandable Upto 16 GB5.08 cm (2 inch) QVGA Display0.3MP Rear Camera1000 mAh Battery0 0 0 0 Processor Processor1 Year Manufacturer Warranty\n",
      "3 GB RAM | 32 GB ROM |16.0 cm (6.3 inch) Display13MP Rear Camera5000 mAh Battery12 months\n",
      "4 GB RAM | 64 GB ROM |16.0 cm (6.3 inch) Display13MP Rear Camera5000 mAh Battery12 months\n",
      "4 GB RAM | 64 GB ROM |16.26 cm (6.4 inch) Display13MP Rear Camera5000 mAh Battery12 Months\n"
     ]
    }
   ],
   "source": [
    "for i in processor:\n",
    "    print(i.text)\n",
    "    "
   ]
  },
  {
   "cell_type": "code",
   "execution_count": 31,
   "metadata": {},
   "outputs": [
    {
     "name": "stdout",
     "output_type": "stream",
     "text": [
      "4 GB RAM | 64 GB ROM | Expandable Upto 256 GB14.22 cm (5.6 inch) HD+ Display13MP Rear Camera | 8MP Front Camera3000 mAh BatteryExynos 7870 ProcessorBrand Warranty of 1 Year Available for Mobile and 6 Months for Accessories\n",
      "4 GB RAM | 64 GB ROM | Expandable Upto 256 GB14.22 cm (5.6 inch) HD+ Display13MP Rear Camera | 8MP Front Camera3000 mAh BatteryExynos 7870 ProcessorBrand Warranty of 1 Year Available for Mobile and 6 Months for Accessories\n",
      "NA ROM |3.81 cm (1.5 inch) NA Display800 mAh Battery0 0 0 0 Processor Processor1 Year for Mobile & 6 Months for Accessories\n",
      "NA ROM |3.81 cm (1.5 inch) NA Display800 mAh Battery0 0 0 0 Processor Processor1 Year for Mobile & 6 Months for Accessories\n",
      "NA ROM |5.08 cm (2 inch) QVGA Display800 mAh Battery1 Year Manufacturer Warranty\n",
      "NA ROM |3.81 cm (1.5 inch) Display800 mAh Battery1 year warranty on handset and 6 months warranty on the accessories.\n",
      "NA ROM |3.81 cm (1.5 inch) VGA Display800 mAh Battery1 Year Manufacturer Warranty\n",
      "4 GB RAM | 64 GB ROM | Expandable Upto 512 GB16.26 cm (6.4 inch) FHD+ Display16MP + 5MP | 16MP Front Camera4000 mAh Lithium-ion BatteryExynos 7904 ProcessorSuper AMOLED DisplayBrand Warranty of 1 Year Available for Mobile and 6 Months for Accessories\n",
      "2 GB RAM | 32 GB ROM | Expandable Upto 512 GB15.75 cm (6.2 inch) HD+ Display13MP Rear Camera | 5MP Front Camera3400 mAh Lithium-ion BatteryExynos 7884 ProcessorBrand Warranty of 1 Year Available for Mobile and 6 Months for Accessories\n",
      "3 GB RAM | 32 GB ROM | Expandable Upto 512 GB16.26 cm (6.4 inch) HD+ Display13MP + 5MP | 8MP Front Camera4000 mAh Lithium-ion BatteryExynos 7884B ProcessorBrand Warranty of 1 Year Available for Mobile and 6 Months for Accessories\n",
      "4 GB RAM | 64 GB ROM | Expandable Upto 512 GB16.26 cm (6.4 inch) FHD+ Display16MP + 5MP | 16MP Front Camera4000 mAh Lithium-ion BatteryExynos 7904 ProcessorSuper AMOLED DisplayBrand Warranty of 1 Year Available for Mobile and 6 Months for Accessories\n",
      "NA ROM |3.81 cm (1.5 inch) VGA Display800 mAh Battery1 year warranty on handset and 6 months warranty on the accessories.\n",
      "NA ROM |3.81 cm (1.5 inch) Display0MP Front Camera800 mAh Battery1 year warranty on handset and 6 months warranty on the accessories.\n",
      "12 GB RAM | 256 GB ROM | Expandable Upto 1 TB17.27 cm (6.8 inch) Display12MP (Dual Aperture) + 12MP + 16MP + TOF | 10MP Front Camera4300 mAh BatteryBrand Warranty of 1 Year Available for Mobile and 6 Months for Accessories\n",
      "2 GB RAM | 32 GB ROM | Expandable Upto 512 GB15.75 cm (6.2 inch) HD+ Display13MP Rear Camera | 5MP Front Camera3400 mAh Lithium-ion BatteryExynos 7884 ProcessorBrand Warranty of 1 Year Available for Mobile and 6 Months for Accessories\n",
      "3 GB RAM | 32 GB ROM | Expandable Upto 512 MB16.0 cm (6.3 inch) Full HD+ Display5MP Rear Camera | 8MP + 8MP Dual Front Camera5000 mAh Battery1 year manufacturer warranty for device and 6 months manufacturer warranty for in-box accessories including batteries from the date of purchase\n",
      "6 GB RAM | 64 GB ROM |15.24 cm (6 inch) Display16MP Rear Camera3500 mAh Battery1 Year Warranty\n",
      "1 GB RAM | 16 GB ROM | Expandable Upto 256 GB12.7 cm (5 inch) Quad HD Display5MP Rear Camera | 5MP Front Camera2600 mAh Lithium-ion BatteryExynos 7870 ProcessorBrand Warranty of 1 Year Available for Mobile and 6 Months for Accessories\n",
      "16 MB RAM | 2 MB ROM |5.08 cm (2 inch) Display0.3MP Rear Camera1000 mAh Battery1 Year Manufacturer Warranty\n",
      "3 GB RAM | 32 GB ROM |15.8 cm (6.22 inch) Display13MP Rear Camera3400 mAh Battery12 Months\n",
      "10 MB RAM | 2 MB ROM | Expandable Upto 16 GB5.08 cm (2 inch) QVGA Display0.3MP Rear Camera1000 mAh Battery0 0 0 0 Processor Processor1 Year Manufacturer Warranty\n",
      "3 GB RAM | 32 GB ROM |16.0 cm (6.3 inch) Display13MP Rear Camera5000 mAh Battery12 months\n",
      "4 GB RAM | 64 GB ROM |16.0 cm (6.3 inch) Display13MP Rear Camera5000 mAh Battery12 months\n",
      "4 GB RAM | 64 GB ROM |16.26 cm (6.4 inch) Display13MP Rear Camera5000 mAh Battery12 Months\n"
     ]
    }
   ],
   "source": [
    "for i in warrenty:\n",
    "    print(i.text)\n",
    "    "
   ]
  },
  {
   "cell_type": "code",
   "execution_count": 32,
   "metadata": {},
   "outputs": [
    {
     "name": "stdout",
     "output_type": "stream",
     "text": [
      "4 GB RAM | 64 GB ROM | Expandable Upto 256 GB14.22 cm (5.6 inch) HD+ Display13MP Rear Camera | 8MP Front Camera3000 mAh BatteryExynos 7870 ProcessorBrand Warranty of 1 Year Available for Mobile and 6 Months for Accessories\n",
      "4 GB RAM | 64 GB ROM | Expandable Upto 256 GB14.22 cm (5.6 inch) HD+ Display13MP Rear Camera | 8MP Front Camera3000 mAh BatteryExynos 7870 ProcessorBrand Warranty of 1 Year Available for Mobile and 6 Months for Accessories\n",
      "NA ROM |3.81 cm (1.5 inch) NA Display800 mAh Battery0 0 0 0 Processor Processor1 Year for Mobile & 6 Months for Accessories\n",
      "NA ROM |3.81 cm (1.5 inch) NA Display800 mAh Battery0 0 0 0 Processor Processor1 Year for Mobile & 6 Months for Accessories\n",
      "NA ROM |5.08 cm (2 inch) QVGA Display800 mAh Battery1 Year Manufacturer Warranty\n",
      "NA ROM |3.81 cm (1.5 inch) Display800 mAh Battery1 year warranty on handset and 6 months warranty on the accessories.\n",
      "NA ROM |3.81 cm (1.5 inch) VGA Display800 mAh Battery1 Year Manufacturer Warranty\n",
      "4 GB RAM | 64 GB ROM | Expandable Upto 512 GB16.26 cm (6.4 inch) FHD+ Display16MP + 5MP | 16MP Front Camera4000 mAh Lithium-ion BatteryExynos 7904 ProcessorSuper AMOLED DisplayBrand Warranty of 1 Year Available for Mobile and 6 Months for Accessories\n",
      "2 GB RAM | 32 GB ROM | Expandable Upto 512 GB15.75 cm (6.2 inch) HD+ Display13MP Rear Camera | 5MP Front Camera3400 mAh Lithium-ion BatteryExynos 7884 ProcessorBrand Warranty of 1 Year Available for Mobile and 6 Months for Accessories\n",
      "3 GB RAM | 32 GB ROM | Expandable Upto 512 GB16.26 cm (6.4 inch) HD+ Display13MP + 5MP | 8MP Front Camera4000 mAh Lithium-ion BatteryExynos 7884B ProcessorBrand Warranty of 1 Year Available for Mobile and 6 Months for Accessories\n",
      "4 GB RAM | 64 GB ROM | Expandable Upto 512 GB16.26 cm (6.4 inch) FHD+ Display16MP + 5MP | 16MP Front Camera4000 mAh Lithium-ion BatteryExynos 7904 ProcessorSuper AMOLED DisplayBrand Warranty of 1 Year Available for Mobile and 6 Months for Accessories\n",
      "NA ROM |3.81 cm (1.5 inch) VGA Display800 mAh Battery1 year warranty on handset and 6 months warranty on the accessories.\n",
      "NA ROM |3.81 cm (1.5 inch) Display0MP Front Camera800 mAh Battery1 year warranty on handset and 6 months warranty on the accessories.\n",
      "12 GB RAM | 256 GB ROM | Expandable Upto 1 TB17.27 cm (6.8 inch) Display12MP (Dual Aperture) + 12MP + 16MP + TOF | 10MP Front Camera4300 mAh BatteryBrand Warranty of 1 Year Available for Mobile and 6 Months for Accessories\n",
      "2 GB RAM | 32 GB ROM | Expandable Upto 512 GB15.75 cm (6.2 inch) HD+ Display13MP Rear Camera | 5MP Front Camera3400 mAh Lithium-ion BatteryExynos 7884 ProcessorBrand Warranty of 1 Year Available for Mobile and 6 Months for Accessories\n",
      "3 GB RAM | 32 GB ROM | Expandable Upto 512 MB16.0 cm (6.3 inch) Full HD+ Display5MP Rear Camera | 8MP + 8MP Dual Front Camera5000 mAh Battery1 year manufacturer warranty for device and 6 months manufacturer warranty for in-box accessories including batteries from the date of purchase\n",
      "6 GB RAM | 64 GB ROM |15.24 cm (6 inch) Display16MP Rear Camera3500 mAh Battery1 Year Warranty\n",
      "1 GB RAM | 16 GB ROM | Expandable Upto 256 GB12.7 cm (5 inch) Quad HD Display5MP Rear Camera | 5MP Front Camera2600 mAh Lithium-ion BatteryExynos 7870 ProcessorBrand Warranty of 1 Year Available for Mobile and 6 Months for Accessories\n",
      "16 MB RAM | 2 MB ROM |5.08 cm (2 inch) Display0.3MP Rear Camera1000 mAh Battery1 Year Manufacturer Warranty\n",
      "3 GB RAM | 32 GB ROM |15.8 cm (6.22 inch) Display13MP Rear Camera3400 mAh Battery12 Months\n",
      "10 MB RAM | 2 MB ROM | Expandable Upto 16 GB5.08 cm (2 inch) QVGA Display0.3MP Rear Camera1000 mAh Battery0 0 0 0 Processor Processor1 Year Manufacturer Warranty\n",
      "3 GB RAM | 32 GB ROM |16.0 cm (6.3 inch) Display13MP Rear Camera5000 mAh Battery12 months\n",
      "4 GB RAM | 64 GB ROM |16.0 cm (6.3 inch) Display13MP Rear Camera5000 mAh Battery12 months\n",
      "4 GB RAM | 64 GB ROM |16.26 cm (6.4 inch) Display13MP Rear Camera5000 mAh Battery12 Months\n"
     ]
    }
   ],
   "source": [
    "for i in accessories:\n",
    "    print(i.text)"
   ]
  },
  {
   "cell_type": "code",
   "execution_count": null,
   "metadata": {},
   "outputs": [],
   "source": []
  },
  {
   "cell_type": "code",
   "execution_count": null,
   "metadata": {},
   "outputs": [],
   "source": []
  }
 ],
 "metadata": {
  "kernelspec": {
   "display_name": "Python 3",
   "language": "python",
   "name": "python3"
  },
  "language_info": {
   "codemirror_mode": {
    "name": "ipython",
    "version": 3
   },
   "file_extension": ".py",
   "mimetype": "text/x-python",
   "name": "python",
   "nbconvert_exporter": "python",
   "pygments_lexer": "ipython3",
   "version": "3.7.3"
  }
 },
 "nbformat": 4,
 "nbformat_minor": 2
}
